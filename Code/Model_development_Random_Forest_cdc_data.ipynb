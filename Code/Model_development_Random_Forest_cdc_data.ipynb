{
  "nbformat": 4,
  "nbformat_minor": 0,
  "metadata": {
    "colab": {
      "provenance": []
    },
    "kernelspec": {
      "name": "python3",
      "display_name": "Python 3"
    },
    "language_info": {
      "name": "python"
    }
  },
  "cells": [
    {
      "cell_type": "code",
      "execution_count": 1,
      "metadata": {
        "colab": {
          "base_uri": "https://localhost:8080/"
        },
        "id": "wP_lSeD-VZ7_",
        "outputId": "458f2306-1fae-434d-d438-58791f7e1b64"
      },
      "outputs": [
        {
          "output_type": "stream",
          "name": "stdout",
          "text": [
            "Mounted at /content/drive\n"
          ]
        }
      ],
      "source": [
        "from google.colab import drive\n",
        "drive.mount('/content/drive')"
      ]
    },
    {
      "cell_type": "markdown",
      "source": [
        "**Extract Spark/Hadoop and install PyPython dependencies**"
      ],
      "metadata": {
        "id": "e43gfLXfWDh6"
      }
    },
    {
      "cell_type": "code",
      "source": [
        "#######################################\n",
        "###!@0 START INIT ENVIRONMENT\n",
        "!ls /content/drive/Shareddrives/DA231o-2024-shared/assignments/SparkData/spark-3.5.2-bin-hadoop3.tgz\n",
        "!apt-get install openjdk-8-jdk-headless -qq > /dev/null\n",
        "!tar xf /content/drive/Shareddrives/DA231o-2024-shared/assignments/SparkData/spark-3.5.2-bin-hadoop3.tgz\n",
        "!pip install -q findspark\n",
        "!pip install -q pyspark\n",
        "import os\n",
        "os.environ[\"JAVA_HOME\"] = \"/usr/lib/jvm/java-8-openjdk-amd64\"\n",
        "os.environ[\"SPARK_HOME\"] = \"/content/spark-3.5.2-bin-hadoop3\"\n",
        "###!@0 END INIT ENVIRONMENT"
      ],
      "metadata": {
        "colab": {
          "base_uri": "https://localhost:8080/"
        },
        "id": "uc4Q7Rh1WHZk",
        "outputId": "1f54e237-3fb3-459b-a9ad-ad789f7ad09f"
      },
      "execution_count": 2,
      "outputs": [
        {
          "output_type": "stream",
          "name": "stdout",
          "text": [
            "/content/drive/Shareddrives/DA231o-2024-shared/assignments/SparkData/spark-3.5.2-bin-hadoop3.tgz\n"
          ]
        }
      ]
    },
    {
      "cell_type": "markdown",
      "source": [
        "**Create spark session**"
      ],
      "metadata": {
        "id": "Hk2Z0jgzWL8n"
      }
    },
    {
      "cell_type": "code",
      "source": [
        "#######################################\n",
        "###!@1 START OF PYSPARK INIT\n",
        "import findspark\n",
        "findspark.init()\n",
        "findspark.find()\n",
        "from pyspark.sql import SparkSession\n",
        "input_type = 'sample'\n",
        "spark = SparkSession.builder\\\n",
        "         .master(\"local\")\\\n",
        "         .appName(\"Colab\")\\\n",
        "         .config('spark.ui.port', '4050')\\\n",
        "         .getOrCreate()\n",
        "# Spark is ready to go within Colab!\n",
        "###!@1 END OF PYSPARK INIT"
      ],
      "metadata": {
        "id": "ncbjDoF3WSPP"
      },
      "execution_count": 3,
      "outputs": []
    },
    {
      "cell_type": "code",
      "source": [
        "import requests\n",
        "cdc_url = 'https://raw.githubusercontent.com/kapsoniiisc/diabetes-dsp-project/refs/heads/main/Dataset/diabetes_binary_health_indicators_BRFSS2015.csv'\n",
        "\n",
        "# Download the files locally\n",
        "with open('cdc_data.csv', 'wb') as f:\n",
        "    f.write(requests.get(cdc_url).content)\n",
        "\n",
        "cdc_data = spark.read.csv('cdc_data.csv', header=True, inferSchema=True)"
      ],
      "metadata": {
        "id": "GZi_zI4oWZbl"
      },
      "execution_count": 4,
      "outputs": []
    },
    {
      "cell_type": "code",
      "source": [
        "################Iomport lib ##############\n",
        "from pyspark.sql.functions import col, sum, when\n",
        "from pyspark.sql.functions import col\n",
        "import matplotlib.pyplot as plt\n",
        "import seaborn as sns\n",
        "import pandas as pd\n",
        "from pyspark.ml.stat import Correlation\n",
        "from pyspark.ml.feature import VectorAssembler\n",
        "import warnings\n",
        "from pyspark.sql import functions as F\n",
        "from pyspark.sql.functions import corr\n",
        "from pyspark.ml.classification import RandomForestClassifier\n",
        "from pyspark.ml.evaluation import MulticlassClassificationEvaluator\n",
        "from pyspark.ml import Pipeline\n",
        "from sklearn.metrics import confusion_matrix, ConfusionMatrixDisplay\n",
        "from pyspark.ml.evaluation import MulticlassClassificationEvaluator, BinaryClassificationEvaluator\n",
        "from pyspark.ml.evaluation import RegressionEvaluator\n",
        "from pyspark.ml.tuning import CrossValidator, ParamGridBuilder\n",
        "import numpy as np"
      ],
      "metadata": {
        "id": "91W6DS2cWgnf"
      },
      "execution_count": 5,
      "outputs": []
    },
    {
      "cell_type": "markdown",
      "source": [
        "**Model Development: CDC Data: Random Forest**"
      ],
      "metadata": {
        "id": "RLV499_6WkCK"
      }
    },
    {
      "cell_type": "markdown",
      "source": [
        "Selected Features"
      ],
      "metadata": {
        "id": "Kd7218NtWp86"
      }
    },
    {
      "cell_type": "code",
      "source": [
        "selected_features = ['HighBP', 'HighChol', 'BMI', 'PhysActivity', 'GenHlth', 'MentHlth', 'PhysHlth',\n",
        "                     'DiffWalk', 'Age', 'Education', 'Income', 'Stroke', 'HeartDiseaseorAttack']"
      ],
      "metadata": {
        "id": "Gogxve4NWtSh"
      },
      "execution_count": 6,
      "outputs": []
    },
    {
      "cell_type": "markdown",
      "source": [
        "**Random Forest Model Feature Importance**"
      ],
      "metadata": {
        "id": "XO2mpfIGWwyM"
      }
    },
    {
      "cell_type": "code",
      "source": [
        "selected_features = ['HighBP', 'HighChol', 'BMI', 'PhysActivity', 'GenHlth', 'MentHlth', 'PhysHlth',\n",
        "                     'DiffWalk', 'Age', 'Education', 'Income', 'Stroke', 'HeartDiseaseorAttack']\n",
        "label_column = 'Diabetes_binary'\n",
        "\n",
        "assembler = VectorAssembler(inputCols=selected_features, outputCol=\"features\")\n",
        "\n",
        "rf = RandomForestClassifier(featuresCol=\"features\", labelCol=label_column, numTrees=100)\n",
        "\n",
        "pipeline = Pipeline(stages=[assembler, rf])\n",
        "\n",
        "train_data, test_data = cdc_data.randomSplit([0.8, 0.2], seed=42)\n",
        "\n",
        "rf_model = pipeline.fit(train_data)\n",
        "\n",
        "rf_stage = rf_model.stages[-1]\n",
        "feature_importances = rf_stage.featureImportances\n",
        "\n",
        "importances = [(feature, importance) for feature, importance in zip(selected_features, feature_importances)]\n",
        "sorted_importances = sorted(importances, key=lambda x: x[1], reverse=True)\n",
        "\n",
        "print(\"Feature Importances:\")\n",
        "for feature, importance in sorted_importances:\n",
        "    print(f\"{feature}: {importance:.4f}\")"
      ],
      "metadata": {
        "colab": {
          "base_uri": "https://localhost:8080/"
        },
        "id": "vVCnO0vhW13M",
        "outputId": "d1aa5e23-7a0d-4f65-adf6-b28d2fbe0344"
      },
      "execution_count": 7,
      "outputs": [
        {
          "output_type": "stream",
          "name": "stdout",
          "text": [
            "Feature Importances:\n",
            "HighBP: 0.3073\n",
            "GenHlth: 0.2308\n",
            "DiffWalk: 0.1717\n",
            "BMI: 0.1255\n",
            "HighChol: 0.0869\n",
            "HeartDiseaseorAttack: 0.0392\n",
            "PhysHlth: 0.0213\n",
            "Age: 0.0118\n",
            "Income: 0.0044\n",
            "Stroke: 0.0007\n",
            "Education: 0.0002\n",
            "PhysActivity: 0.0002\n",
            "MentHlth: 0.0001\n"
          ]
        }
      ]
    },
    {
      "cell_type": "markdown",
      "source": [
        "feature importance indicates the relative contribution of each feature in predicting the target variable.\n",
        "\n",
        "It is calculated based on how much each feature improves the model's split criterion (e.g., Gini impurity or information gain) across all trees in the forest\n",
        "\n",
        "\n",
        "Higher Importance (e.g., >0.1): Features with higher importance contribute more significantly to the model's predictions.\n",
        "\n",
        "\n",
        "Moderate Importance (e.g., 0.05–0.1):These features are somewhat relevant but not as influential.For example, if HighChol has an importance value of 0.07, it suggests that while cholesterol impacts the predictions, it's not the sole factor\n",
        "\n",
        "\n",
        "Lower Importance (e.g., <0.05):Features with low importance values are used less frequently in decision tree splits or add minimal predictive value. Influential Factors: High blood pressure, BMI , poor general health, and Diffwalk are significant predictors of diabetes risk, with high blood pressure having the strongest association."
      ],
      "metadata": {
        "id": "Q8oqPBeRW5u-"
      }
    },
    {
      "cell_type": "markdown",
      "source": [
        "**PLot the Confusion Matrix**"
      ],
      "metadata": {
        "id": "0hwQTYJ5W_zK"
      }
    },
    {
      "cell_type": "code",
      "source": [
        "predictions = rf_model.transform(test_data)\n",
        "\n",
        "y_true = predictions.select(label_column).rdd.flatMap(lambda x: x).collect()\n",
        "y_pred = predictions.select(\"prediction\").rdd.flatMap(lambda x: x).collect()\n",
        "\n",
        "conf_matrix = confusion_matrix(y_true, y_pred)\n",
        "\n",
        "plt.figure(figsize=(8, 6))\n",
        "disp = ConfusionMatrixDisplay(confusion_matrix=conf_matrix, display_labels=[\"Non-Diabetic\", \"Diabetic\"])\n",
        "disp.plot(cmap=plt.cm.Blues, values_format=\"d\")\n",
        "plt.title(\"Confusion Matrix - Random Forest\")\n",
        "plt.show()"
      ],
      "metadata": {
        "colab": {
          "base_uri": "https://localhost:8080/",
          "height": 489
        },
        "id": "lyfjLt7rXFCY",
        "outputId": "3bb68ad0-28af-41d4-d6ad-62e90e251240"
      },
      "execution_count": 8,
      "outputs": [
        {
          "output_type": "display_data",
          "data": {
            "text/plain": [
              "<Figure size 800x600 with 0 Axes>"
            ]
          },
          "metadata": {}
        },
        {
          "output_type": "display_data",
          "data": {
            "text/plain": [
              "<Figure size 640x480 with 2 Axes>"
            ],
            "image/png": "[encoded data removed]"
          },
          "metadata": {}
        }
      ]
    },
    {
      "cell_type": "markdown",
      "source": [
        "**Calculate Evaluation Metrics**"
      ],
      "metadata": {
        "id": "XxpV5fPCXKct"
      }
    },
    {
      "cell_type": "code",
      "source": [
        "train_predictions = rf_model.transform(train_data)\n",
        "test_predictions = rf_model.transform(test_data)\n",
        "\n",
        "accuracy_evaluator = MulticlassClassificationEvaluator(labelCol=label_column, predictionCol=\"prediction\", metricName=\"accuracy\")\n",
        "precision_evaluator = MulticlassClassificationEvaluator(labelCol=label_column, predictionCol=\"prediction\", metricName=\"weightedPrecision\")\n",
        "recall_evaluator = MulticlassClassificationEvaluator(labelCol=label_column, predictionCol=\"prediction\", metricName=\"weightedRecall\")\n",
        "f1_evaluator = MulticlassClassificationEvaluator(labelCol=label_column, predictionCol=\"prediction\", metricName=\"f1\")\n",
        "roc_auc_evaluator = BinaryClassificationEvaluator(labelCol=label_column, rawPredictionCol=\"rawPrediction\", metricName=\"areaUnderROC\")\n",
        "\n",
        "train_accuracy = accuracy_evaluator.evaluate(train_predictions)\n",
        "train_precision = precision_evaluator.evaluate(train_predictions)\n",
        "train_recall = recall_evaluator.evaluate(train_predictions)\n",
        "train_f1_score = f1_evaluator.evaluate(train_predictions)\n",
        "train_roc_auc = roc_auc_evaluator.evaluate(train_predictions)\n",
        "\n",
        "test_accuracy = accuracy_evaluator.evaluate(test_predictions)\n",
        "test_precision = precision_evaluator.evaluate(test_predictions)\n",
        "test_recall = recall_evaluator.evaluate(test_predictions)\n",
        "test_f1_score = f1_evaluator.evaluate(test_predictions)\n",
        "test_roc_auc = roc_auc_evaluator.evaluate(test_predictions)\n",
        "\n",
        "print(\"### Training Data Metrics ###\")\n",
        "print(f\"Accuracy: {train_accuracy:.4f}\")\n",
        "print(f\"Precision: {train_precision:.4f}\")\n",
        "print(f\"Recall: {train_recall:.4f}\")\n",
        "print(f\"F1-Score: {train_f1_score:.4f}\")\n",
        "print(f\"ROC AUC: {train_roc_auc:.4f}\")\n",
        "\n",
        "print(\"\\n### Test Data Metrics ###\")\n",
        "print(f\"Accuracy: {test_accuracy:.4f}\")\n",
        "print(f\"Precision: {test_precision:.4f}\")\n",
        "print(f\"Recall: {test_recall:.4f}\")\n",
        "print(f\"F1-Score: {test_f1_score:.4f}\")\n",
        "print(f\"ROC AUC: {test_roc_auc:.4f}\")"
      ],
      "metadata": {
        "colab": {
          "base_uri": "https://localhost:8080/"
        },
        "id": "jhJe2234XPGQ",
        "outputId": "2116c2bc-b185-4def-a73f-cdfe4854ebde"
      },
      "execution_count": 9,
      "outputs": [
        {
          "output_type": "stream",
          "name": "stdout",
          "text": [
            "### Training Data Metrics ###\n",
            "Accuracy: 0.8606\n",
            "Precision: 0.7407\n",
            "Recall: 0.8606\n",
            "F1-Score: 0.7962\n",
            "ROC AUC: 0.8014\n",
            "\n",
            "### Test Data Metrics ###\n",
            "Accuracy: 0.8607\n",
            "Precision: 0.7409\n",
            "Recall: 0.8607\n",
            "F1-Score: 0.7963\n",
            "ROC AUC: 0.7978\n"
          ]
        }
      ]
    },
    {
      "cell_type": "markdown",
      "source": [
        "**Calculate the MSE and RMSE**"
      ],
      "metadata": {
        "id": "XaKcukkgXToM"
      }
    },
    {
      "cell_type": "code",
      "source": [
        "mse_evaluator = RegressionEvaluator(labelCol=label_column, predictionCol=\"prediction\", metricName=\"mse\")\n",
        "rmse_evaluator = RegressionEvaluator(labelCol=label_column, predictionCol=\"prediction\", metricName=\"rmse\")\n",
        "\n",
        "train_mse = mse_evaluator.evaluate(train_predictions)\n",
        "train_rmse = rmse_evaluator.evaluate(train_predictions)\n",
        "\n",
        "test_mse = mse_evaluator.evaluate(test_predictions)\n",
        "test_rmse = rmse_evaluator.evaluate(test_predictions)\n",
        "\n",
        "print(\"### Training Data Metrics ###\")\n",
        "print(f\"MSE: {train_mse:.4f}\")\n",
        "print(f\"RMSE: {train_rmse:.4f}\")\n",
        "\n",
        "print(\"\\n### Test Data Metrics ###\")\n",
        "print(f\"MSE: {test_mse:.4f}\")\n",
        "print(f\"RMSE: {test_rmse:.4f}\")"
      ],
      "metadata": {
        "colab": {
          "base_uri": "https://localhost:8080/"
        },
        "id": "PHfW9583XXqb",
        "outputId": "6df93b29-1d1d-4aba-ae22-e765c4178190"
      },
      "execution_count": 10,
      "outputs": [
        {
          "output_type": "stream",
          "name": "stdout",
          "text": [
            "### Training Data Metrics ###\n",
            "MSE: 0.1394\n",
            "RMSE: 0.3733\n",
            "\n",
            "### Test Data Metrics ###\n",
            "MSE: 0.1393\n",
            "RMSE: 0.3732\n"
          ]
        }
      ]
    },
    {
      "cell_type": "markdown",
      "source": [
        "**Random Foreset Classifier with cross validation**"
      ],
      "metadata": {
        "id": "N79XkBcZXe5o"
      }
    },
    {
      "cell_type": "code",
      "source": [
        "training_accuracies = []\n",
        "testing_accuracies = []\n",
        "\n",
        "training_f1 = []\n",
        "testing_f1 = []\n",
        "\n",
        "training_precision = []\n",
        "testing_precision = []\n",
        "\n",
        "training_recall = []\n",
        "testing_recall = []\n",
        "\n",
        "training_rocauc_score = []\n",
        "testing_rocauc_score = []\n",
        "\n",
        "selected_features = ['HighBP', 'HighChol', 'BMI', 'PhysActivity', 'GenHlth', 'MentHlth', 'PhysHlth',\n",
        "                     'DiffWalk', 'Age', 'Education', 'Income', 'Stroke', 'HeartDiseaseorAttack']\n",
        "label_column = 'Diabetes_binary'\n",
        "\n",
        "assembler = VectorAssembler(inputCols=selected_features, outputCol=\"features\")\n",
        "rf = RandomForestClassifier(featuresCol=\"features\", labelCol=label_column, numTrees=100)\n",
        "\n",
        "pipeline = Pipeline(stages=[assembler, rf])\n",
        "train_data, test_data = cdc_data.randomSplit([0.8, 0.2], seed=42)\n",
        "\n",
        "paramGrid = ParamGridBuilder().build()\n",
        "crossval = CrossValidator(estimator=pipeline,\n",
        "                          estimatorParamMaps=paramGrid,\n",
        "                          evaluator=accuracy_evaluator,\n",
        "                          numFolds=5)\n",
        "cv_model = crossval.fit(train_data)\n",
        "\n",
        "\n",
        "accuracy_evaluator = MulticlassClassificationEvaluator(labelCol=label_column, predictionCol=\"prediction\", metricName=\"accuracy\")\n",
        "precision_evaluator = MulticlassClassificationEvaluator(labelCol=label_column, predictionCol=\"prediction\", metricName=\"weightedPrecision\")\n",
        "recall_evaluator = MulticlassClassificationEvaluator(labelCol=label_column, predictionCol=\"prediction\", metricName=\"weightedRecall\")\n",
        "f1_evaluator = MulticlassClassificationEvaluator(labelCol=label_column, predictionCol=\"prediction\", metricName=\"f1\")\n",
        "roc_evaluator = BinaryClassificationEvaluator(labelCol=label_column, rawPredictionCol=\"rawPrediction\", metricName=\"areaUnderROC\")\n",
        "\n",
        "fold_metrics = cv_model.avgMetrics\n",
        "\n",
        "for fold_idx in range(len(fold_metrics)):\n",
        "\n",
        "  train_predictions = cv_model.transform(train_data)\n",
        "  training_accuracies.append(accuracy_evaluator.evaluate(train_predictions))\n",
        "  training_precision.append(precision_evaluator.evaluate(train_predictions))\n",
        "  training_recall.append(recall_evaluator.evaluate(train_predictions))\n",
        "  training_f1.append(f1_evaluator.evaluate(train_predictions))\n",
        "  training_rocauc_score.append(roc_evaluator.evaluate(train_predictions))\n",
        "\n",
        "  test_predictions = cv_model.transform(test_data)\n",
        "  testing_accuracies.append(accuracy_evaluator.evaluate(test_predictions))\n",
        "  testing_precision.append(precision_evaluator.evaluate(test_predictions))\n",
        "  testing_recall.append(recall_evaluator.evaluate(test_predictions))\n",
        "  testing_f1.append(f1_evaluator.evaluate(test_predictions))\n",
        "  testing_rocauc_score.append(roc_evaluator.evaluate(test_predictions))\n",
        "\n",
        "mean_train_accuracy_lr_iter1 = np.mean(training_accuracies)\n",
        "std_train_accuracy_lr_iter1 = np.std(training_accuracies)\n",
        "mean_test_accuracy_lr_iter1 = np.mean(testing_accuracies)\n",
        "std_test_accuracy_lr_iter1 = np.std(testing_accuracies)\n",
        "\n",
        "print(\"\\n\")\n",
        "print(\"=\"*50)\n",
        "print(f\"Training Accuracy: {mean_train_accuracy_lr_iter1:.2f} ± {std_train_accuracy_lr_iter1:.2f}\")\n",
        "print(f\"Test Accuracy: {mean_test_accuracy_lr_iter1:.2f} ± {std_test_accuracy_lr_iter1:.2f}\")\n",
        "print(\"=\"*50)\n",
        "\n",
        "\n",
        "mean_train_f1_lr_iter1 = np.mean(training_f1)\n",
        "std_train_f1_lr_iter1 = np.std(training_f1)\n",
        "mean_test_f1_lr_iter1 = np.mean(testing_f1)\n",
        "std_test_f1_lr_iter1 = np.std(testing_f1)\n",
        "\n",
        "print(\"\\n\")\n",
        "print(\"=\"*50)\n",
        "print(f\"Training F1: {mean_train_f1_lr_iter1:.2f} ± {std_train_f1_lr_iter1:.2f}\")\n",
        "print(f\"Test F1: {mean_test_f1_lr_iter1:.2f} ± {std_test_f1_lr_iter1:.2f}\")\n",
        "print(\"=\"*50)\n",
        "\n",
        "\n",
        "mean_train_precision_lr_iter1 = np.mean(training_precision)\n",
        "std_train_precision_lr_iter1 = np.std(training_precision)\n",
        "mean_test_precision_lr_iter1 = np.mean(testing_precision)\n",
        "std_test_precision_lr_iter1 = np.std(testing_precision)\n",
        "\n",
        "print(\"\\n\")\n",
        "print(\"=\"*50)\n",
        "print(f\"Training Precision: {mean_train_precision_lr_iter1:.2f} ± {std_train_precision_lr_iter1:.2f}\")\n",
        "print(f\"Test Precision: {mean_test_precision_lr_iter1:.2f} ± {std_test_precision_lr_iter1:.2f}\")\n",
        "print(\"=\"*50)\n",
        "\n",
        "\n",
        "mean_train_recall_lr_iter1 = np.mean(training_recall)\n",
        "std_train_recall_lr_iter1 = np.std(training_recall)\n",
        "mean_test_recall_lr_iter1 = np.mean(testing_recall)\n",
        "std_test_recall_lr_iter1 = np.std(testing_recall)\n",
        "\n",
        "print(\"\\n\")\n",
        "print(\"=\"*50)\n",
        "print(f\"Training Recall: {mean_train_recall_lr_iter1:.2f} ± {std_train_recall_lr_iter1:.2f}\")\n",
        "print(f\"Test Recall: {mean_test_recall_lr_iter1:.2f} ± {std_test_recall_lr_iter1:.2f}\")\n",
        "print(\"=\"*50)\n",
        "\n",
        "\n",
        "mean_train_rocauc_score_lr_iter1 = np.mean(training_rocauc_score)\n",
        "std_train_rocauc_score_lr_iter1 = np.std(training_rocauc_score)\n",
        "mean_test_rocauc_score_lr_iter1 = np.mean(testing_rocauc_score)\n",
        "std_test_rocauc_score_lr_iter1 = np.std(testing_rocauc_score)\n",
        "\n",
        "print(\"\\n\")\n",
        "print(\"=\"*50)\n",
        "print(f\"Training RO-AUC: {mean_train_rocauc_score_lr_iter1:.2f} ± {std_train_rocauc_score_lr_iter1:.2f}\")\n",
        "print(f\"Test RO-AUC: {mean_test_rocauc_score_lr_iter1:.2f} ± {std_test_rocauc_score_lr_iter1:.2f}\")\n",
        "print(\"=\"*50)"
      ],
      "metadata": {
        "colab": {
          "base_uri": "https://localhost:8080/"
        },
        "id": "ZAREVt_2XoRa",
        "outputId": "3f728518-e43a-4a38-d393-8a3cecd5426c"
      },
      "execution_count": 11,
      "outputs": [
        {
          "output_type": "stream",
          "name": "stdout",
          "text": [
            "\n",
            "\n",
            "==================================================\n",
            "Training Accuracy: 0.86 ± 0.00\n",
            "Test Accuracy: 0.86 ± 0.00\n",
            "==================================================\n",
            "\n",
            "\n",
            "==================================================\n",
            "Training F1: 0.80 ± 0.00\n",
            "Test F1: 0.80 ± 0.00\n",
            "==================================================\n",
            "\n",
            "\n",
            "==================================================\n",
            "Training Precision: 0.74 ± 0.00\n",
            "Test Precision: 0.74 ± 0.00\n",
            "==================================================\n",
            "\n",
            "\n",
            "==================================================\n",
            "Training Recall: 0.86 ± 0.00\n",
            "Test Recall: 0.86 ± 0.00\n",
            "==================================================\n",
            "\n",
            "\n",
            "==================================================\n",
            "Training RO-AUC: 0.80 ± 0.00\n",
            "Test RO-AUC: 0.80 ± 0.00\n",
            "==================================================\n"
          ]
        }
      ]
    },
    {
      "cell_type": "markdown",
      "source": [
        "**Random Forest Model with Cross-Validation and Hyperparameter Tuning**"
      ],
      "metadata": {
        "id": "FfEO9RZkYxg6"
      }
    },
    {
      "cell_type": "code",
      "source": [
        "training_accuracies = []\n",
        "testing_accuracies = []\n",
        "\n",
        "training_f1 = []\n",
        "testing_f1 = []\n",
        "\n",
        "training_precision = []\n",
        "testing_precision = []\n",
        "\n",
        "training_recall = []\n",
        "testing_recall = []\n",
        "\n",
        "training_rocauc_score = []\n",
        "testing_rocauc_score = []\n",
        "\n",
        "selected_features = ['HighBP', 'HighChol', 'BMI', 'PhysActivity', 'GenHlth', 'MentHlth', 'PhysHlth',\n",
        "                     'DiffWalk', 'Age', 'Education', 'Income', 'Stroke', 'HeartDiseaseorAttack']\n",
        "label_column = 'Diabetes_binary'\n",
        "\n",
        "assembler = VectorAssembler(inputCols=selected_features, outputCol=\"features\")\n",
        "rf = RandomForestClassifier(featuresCol=\"features\", labelCol=label_column, numTrees=100)\n",
        "\n",
        "pipeline = Pipeline(stages=[assembler, rf])\n",
        "train_data, test_data = cdc_data.randomSplit([0.8, 0.2], seed=42)\n",
        "\n",
        "paramGrid = ParamGridBuilder() \\\n",
        "    .addGrid(rf.numTrees, [50, 100]) \\\n",
        "    .addGrid(rf.maxDepth, [5, 10]) \\\n",
        "    .build()\n",
        "\n",
        "crossval = CrossValidator(estimator=pipeline,\n",
        "                          estimatorParamMaps=paramGrid,\n",
        "                          evaluator=accuracy_evaluator,\n",
        "                          numFolds=5)\n",
        "cv_model = crossval.fit(train_data)\n",
        "\n",
        "best_model = cv_model.bestModel\n",
        "best_rf_stage = best_model.stages[-1]\n",
        "\n",
        "accuracy_evaluator = MulticlassClassificationEvaluator(labelCol=label_column, predictionCol=\"prediction\", metricName=\"accuracy\")\n",
        "precision_evaluator = MulticlassClassificationEvaluator(labelCol=label_column, predictionCol=\"prediction\", metricName=\"weightedPrecision\")\n",
        "recall_evaluator = MulticlassClassificationEvaluator(labelCol=label_column, predictionCol=\"prediction\", metricName=\"weightedRecall\")\n",
        "f1_evaluator = MulticlassClassificationEvaluator(labelCol=label_column, predictionCol=\"prediction\", metricName=\"f1\")\n",
        "roc_evaluator = BinaryClassificationEvaluator(labelCol=label_column, rawPredictionCol=\"rawPrediction\", metricName=\"areaUnderROC\")\n",
        "\n",
        "fold_metrics = cv_model.avgMetrics\n",
        "\n",
        "for fold_idx in range(len(fold_metrics)):\n",
        "\n",
        "  train_predictions = cv_model.transform(train_data)\n",
        "  training_accuracies.append(accuracy_evaluator.evaluate(train_predictions))\n",
        "  training_precision.append(precision_evaluator.evaluate(train_predictions))\n",
        "  training_recall.append(recall_evaluator.evaluate(train_predictions))\n",
        "  training_f1.append(f1_evaluator.evaluate(train_predictions))\n",
        "  training_rocauc_score.append(roc_evaluator.evaluate(train_predictions))\n",
        "\n",
        "  test_predictions = cv_model.transform(test_data)\n",
        "  testing_accuracies.append(accuracy_evaluator.evaluate(test_predictions))\n",
        "  testing_precision.append(precision_evaluator.evaluate(test_predictions))\n",
        "  testing_recall.append(recall_evaluator.evaluate(test_predictions))\n",
        "  testing_f1.append(f1_evaluator.evaluate(test_predictions))\n",
        "  testing_rocauc_score.append(roc_evaluator.evaluate(test_predictions))\n",
        "\n",
        "# Calculate mean and standard deviation of accuracies\n",
        "mean_train_accuracy_lr_iter1 = np.mean(training_accuracies)\n",
        "std_train_accuracy_lr_iter1 = np.std(training_accuracies)\n",
        "mean_test_accuracy_lr_iter1 = np.mean(testing_accuracies)\n",
        "std_test_accuracy_lr_iter1 = np.std(testing_accuracies)\n",
        "\n",
        "# Print results\n",
        "print(\"\\n\")\n",
        "print(\"=\"*50)\n",
        "print(f\"Training Accuracy: {mean_train_accuracy_lr_iter1:.2f} ± {std_train_accuracy_lr_iter1:.2f}\")\n",
        "print(f\"Test Accuracy: {mean_test_accuracy_lr_iter1:.2f} ± {std_test_accuracy_lr_iter1:.2f}\")\n",
        "print(\"=\"*50)\n",
        "\n",
        "# Calculate mean and standard deviation of f1 scores\n",
        "\n",
        "mean_train_f1_lr_iter1 = np.mean(training_f1)\n",
        "std_train_f1_lr_iter1 = np.std(training_f1)\n",
        "mean_test_f1_lr_iter1 = np.mean(testing_f1)\n",
        "std_test_f1_lr_iter1 = np.std(testing_f1)\n",
        "\n",
        "# Print results\n",
        "print(\"\\n\")\n",
        "print(\"=\"*50)\n",
        "print(f\"Training F1: {mean_train_f1_lr_iter1:.2f} ± {std_train_f1_lr_iter1:.2f}\")\n",
        "print(f\"Test F1: {mean_test_f1_lr_iter1:.2f} ± {std_test_f1_lr_iter1:.2f}\")\n",
        "print(\"=\"*50)\n",
        "\n",
        "# Calculate mean and standard deviation of Precision scores\n",
        "\n",
        "mean_train_precision_lr_iter1 = np.mean(training_precision)\n",
        "std_train_precision_lr_iter1 = np.std(training_precision)\n",
        "mean_test_precision_lr_iter1 = np.mean(testing_precision)\n",
        "std_test_precision_lr_iter1 = np.std(testing_precision)\n",
        "\n",
        "# Print results\n",
        "print(\"\\n\")\n",
        "print(\"=\"*50)\n",
        "print(f\"Training Precision: {mean_train_precision_lr_iter1:.2f} ± {std_train_precision_lr_iter1:.2f}\")\n",
        "print(f\"Test Precision: {mean_test_precision_lr_iter1:.2f} ± {std_test_precision_lr_iter1:.2f}\")\n",
        "print(\"=\"*50)\n",
        "\n",
        "# Calculate mean and standard deviation of Recall scores\n",
        "\n",
        "mean_train_recall_lr_iter1 = np.mean(training_recall)\n",
        "std_train_recall_lr_iter1 = np.std(training_recall)\n",
        "mean_test_recall_lr_iter1 = np.mean(testing_recall)\n",
        "std_test_recall_lr_iter1 = np.std(testing_recall)\n",
        "\n",
        "# Print results\n",
        "print(\"\\n\")\n",
        "print(\"=\"*50)\n",
        "print(f\"Training Recall: {mean_train_recall_lr_iter1:.2f} ± {std_train_recall_lr_iter1:.2f}\")\n",
        "print(f\"Test Recall: {mean_test_recall_lr_iter1:.2f} ± {std_test_recall_lr_iter1:.2f}\")\n",
        "print(\"=\"*50)\n",
        "\n",
        "# Calculate mean and standard deviation of RO-AUC scores\n",
        "\n",
        "mean_train_rocauc_score_lr_iter1 = np.mean(training_rocauc_score)\n",
        "std_train_rocauc_score_lr_iter1 = np.std(training_rocauc_score)\n",
        "mean_test_rocauc_score_lr_iter1 = np.mean(testing_rocauc_score)\n",
        "std_test_rocauc_score_lr_iter1 = np.std(testing_rocauc_score)\n",
        "\n",
        "# Print results\n",
        "print(\"\\n\")\n",
        "print(\"=\"*50)\n",
        "print(f\"Training RO-AUC: {mean_train_rocauc_score_lr_iter1:.2f} ± {std_train_rocauc_score_lr_iter1:.2f}\")\n",
        "print(f\"Test RO-AUC: {mean_test_rocauc_score_lr_iter1:.2f} ± {std_test_rocauc_score_lr_iter1:.2f}\")\n",
        "print(\"=\"*50)\n",
        "\n",
        "\n",
        "importances = [(feature, importance) for feature, importance in zip(selected_features, best_rf_stage.featureImportances)]\n",
        "sorted_importances = sorted(importances, key=lambda x: x[1], reverse=True)\n",
        "print(\"\\nFeature Importances:\")\n",
        "for feature, importance in sorted_importances:\n",
        "    print(f\"{feature}: {importance:.4f}\")"
      ],
      "metadata": {
        "colab": {
          "base_uri": "https://localhost:8080/"
        },
        "id": "tg8ZKrPlYz70",
        "outputId": "ff37e65c-809d-4788-a054-746806e824bc"
      },
      "execution_count": 12,
      "outputs": [
        {
          "output_type": "stream",
          "name": "stdout",
          "text": [
            "\n",
            "\n",
            "==================================================\n",
            "Training Accuracy: 0.87 ± 0.00\n",
            "Test Accuracy: 0.87 ± 0.00\n",
            "==================================================\n",
            "\n",
            "\n",
            "==================================================\n",
            "Training F1: 0.83 ± 0.00\n",
            "Test F1: 0.82 ± 0.00\n",
            "==================================================\n",
            "\n",
            "\n",
            "==================================================\n",
            "Training Precision: 0.84 ± 0.00\n",
            "Test Precision: 0.83 ± 0.00\n",
            "==================================================\n",
            "\n",
            "\n",
            "==================================================\n",
            "Training Recall: 0.87 ± 0.00\n",
            "Test Recall: 0.87 ± 0.00\n",
            "==================================================\n",
            "\n",
            "\n",
            "==================================================\n",
            "Training RO-AUC: 0.83 ± 0.00\n",
            "Test RO-AUC: 0.82 ± 0.00\n",
            "==================================================\n",
            "\n",
            "Feature Importances:\n",
            "HighBP: 0.2427\n",
            "GenHlth: 0.2312\n",
            "BMI: 0.1564\n",
            "DiffWalk: 0.0931\n",
            "HighChol: 0.0918\n",
            "Age: 0.0671\n",
            "HeartDiseaseorAttack: 0.0287\n",
            "PhysHlth: 0.0277\n",
            "Income: 0.0228\n",
            "Education: 0.0141\n",
            "MentHlth: 0.0128\n",
            "Stroke: 0.0061\n",
            "PhysActivity: 0.0054\n"
          ]
        }
      ]
    }
  ]
}