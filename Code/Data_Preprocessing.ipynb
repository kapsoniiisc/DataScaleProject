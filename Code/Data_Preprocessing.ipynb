{
  "nbformat": 4,
  "nbformat_minor": 0,
  "metadata": {
    "colab": {
      "provenance": []
    },
    "kernelspec": {
      "name": "python3",
      "display_name": "Python 3"
    },
    "language_info": {
      "name": "python"
    }
  },
  "cells": [
    {
      "cell_type": "markdown",
      "source": [
        "**1. | Data Sources**"
      ],
      "metadata": {
        "id": "u5GR3wsKMCvy"
      }
    },
    {
      "cell_type": "markdown",
      "source": [
        "CDC Diabetes Health Indicators Dataset\n",
        "\n",
        "Source: UCI Machine Learning Repository\n",
        "\n",
        "URL: CDC Diabetes Health Indicators : https://archive.ics.uci.edu/dataset/891/cdc+diabetes+health+indicators\n",
        "\n",
        "Collection Method: This dataset is derived from the Behavioral Risk Factor Surveillance System (BRFSS) survey conducted by the Centers for Disease Control and Prevention (CDC). The data were collected via telephone surveys."
      ],
      "metadata": {
        "id": "OedJ0RJ6MMnp"
      }
    },
    {
      "cell_type": "markdown",
      "source": [
        "**Description of the data (features, size, format)**\n",
        "The Diabetes Health Indicators Dataset contains healthcare statistics and lifestyle survey information about people in general and their diabetes diagnoses.\n",
        "\n",
        "Features – 21\n",
        "\n",
        "Instances – 253680\n",
        "\n",
        "Format - CSV"
      ],
      "metadata": {
        "id": "0OFv1q6RMSxX"
      }
    },
    {
      "cell_type": "markdown",
      "source": [
        "**Extract Spark/Hadoop and install PyPython dependencies**"
      ],
      "metadata": {
        "id": "QDrSTEGeLwEi"
      }
    },
    {
      "cell_type": "code",
      "source": [
        "#######################################\n",
        "###!@0 START INIT ENVIRONMENT\n",
        "from google.colab import drive\n",
        "drive.mount('/content/drive')\n",
        "!ls /content/drive/Shareddrives/DA231o-2024-shared/assignments/SparkData/spark-3.5.2-bin-hadoop3.tgz\n",
        "!apt-get install openjdk-8-jdk-headless -qq > /dev/null\n",
        "!tar xf /content/drive/Shareddrives/DA231o-2024-shared/assignments/SparkData/spark-3.5.2-bin-hadoop3.tgz\n",
        "!pip install -q findspark\n",
        "!pip install -q pyspark\n",
        "import os\n",
        "os.environ[\"JAVA_HOME\"] = \"/usr/lib/jvm/java-8-openjdk-amd64\"\n",
        "os.environ[\"SPARK_HOME\"] = \"/content/spark-3.5.2-bin-hadoop3\"\n",
        "###!@0 END INIT ENVIRONMENT"
      ],
      "metadata": {
        "colab": {
          "base_uri": "https://localhost:8080/"
        },
        "id": "XpXAtc24L5Aq",
        "outputId": "ad649839-b5b1-43a1-d23f-4d071d9e59fc"
      },
      "execution_count": 2,
      "outputs": [
        {
          "output_type": "stream",
          "name": "stdout",
          "text": [
            "Mounted at /content/drive\n",
            "/content/drive/Shareddrives/DA231o-2024-shared/assignments/SparkData/spark-3.5.2-bin-hadoop3.tgz\n"
          ]
        }
      ]
    },
    {
      "cell_type": "markdown",
      "source": [
        "**Create spark session**"
      ],
      "metadata": {
        "id": "a7pOLLhCMxNz"
      }
    },
    {
      "cell_type": "code",
      "source": [
        "#######################################\n",
        "###!@1 START OF PYSPARK INIT\n",
        "import findspark\n",
        "findspark.init()\n",
        "findspark.find()\n",
        "from pyspark.sql import SparkSession\n",
        "input_type = 'sample'\n",
        "spark = SparkSession.builder\\\n",
        "         .master(\"local\")\\\n",
        "         .appName(\"Colab\")\\\n",
        "         .config('spark.ui.port', '4050')\\\n",
        "         .getOrCreate()\n",
        "# Spark is ready to go within Colab!\n",
        "###!@1 END OF PYSPARK INIT"
      ],
      "metadata": {
        "id": "n9u0QBtHMzSI"
      },
      "execution_count": 4,
      "outputs": []
    },
    {
      "cell_type": "markdown",
      "source": [
        "**Importing Libraries**"
      ],
      "metadata": {
        "id": "sp0anYMGMmXv"
      }
    },
    {
      "cell_type": "code",
      "source": [
        "################Iomport lib ##############\n",
        "from pyspark.sql.functions import col, sum, when\n",
        "from pyspark.sql.functions import col\n",
        "import matplotlib.pyplot as plt\n",
        "import seaborn as sns\n",
        "import pandas as pd\n",
        "from pyspark.ml.stat import Correlation\n",
        "from pyspark.ml.feature import VectorAssembler\n",
        "import warnings\n",
        "from pyspark.sql import functions as F\n",
        "from pyspark.sql.functions import corr"
      ],
      "metadata": {
        "id": "T0PqIQ-pMtl0"
      },
      "execution_count": 3,
      "outputs": []
    },
    {
      "cell_type": "markdown",
      "source": [
        "**1.1 | Load Datasets**"
      ],
      "metadata": {
        "id": "Peen48YBM5nw"
      }
    },
    {
      "cell_type": "code",
      "source": [
        "import requests\n",
        "\n",
        "cdc_url = 'https://raw.githubusercontent.com/kapsoniiisc/diabetes-dsp-project/refs/heads/main/Dataset/diabetes_binary_health_indicators_BRFSS2015.csv'\n",
        "\n",
        "# Download the files locally\n",
        "with open('cdc_data.csv', 'wb') as f:\n",
        "    f.write(requests.get(cdc_url).content)\n",
        "\n",
        "# Read into Spark\n",
        "cdc_data = spark.read.csv('cdc_data.csv', header=True, inferSchema=True)"
      ],
      "metadata": {
        "id": "Csp97ZEfM_pP"
      },
      "execution_count": 5,
      "outputs": []
    },
    {
      "cell_type": "markdown",
      "source": [
        "**1.2 | Data Details**"
      ],
      "metadata": {
        "id": "szkvLCLTNLok"
      }
    },
    {
      "cell_type": "code",
      "source": [
        "cdc_rows = cdc_data.count()\n",
        "cdc_columns = len(cdc_data.columns)\n",
        "print(f\"CDC Data: {cdc_rows} rows, {cdc_columns} columns\")"
      ],
      "metadata": {
        "colab": {
          "base_uri": "https://localhost:8080/"
        },
        "id": "6vdkI9ufNNlk",
        "outputId": "e268bd07-c4e4-4486-a399-7d7323a4f833"
      },
      "execution_count": 6,
      "outputs": [
        {
          "output_type": "stream",
          "name": "stdout",
          "text": [
            "CDC Data: 253680 rows, 22 columns\n"
          ]
        }
      ]
    },
    {
      "cell_type": "markdown",
      "source": [
        "**1.2.1 | CDC Data Details**"
      ],
      "metadata": {
        "id": "ww_-8MQpNYQ_"
      }
    },
    {
      "cell_type": "code",
      "source": [
        "cdc_data.printSchema()"
      ],
      "metadata": {
        "colab": {
          "base_uri": "https://localhost:8080/"
        },
        "id": "34stUyWuNZ4A",
        "outputId": "845a6950-0540-4ce8-b028-90440cd5238c"
      },
      "execution_count": 7,
      "outputs": [
        {
          "output_type": "stream",
          "name": "stdout",
          "text": [
            "root\n",
            " |-- Diabetes_binary: double (nullable = true)\n",
            " |-- HighBP: double (nullable = true)\n",
            " |-- HighChol: double (nullable = true)\n",
            " |-- CholCheck: double (nullable = true)\n",
            " |-- BMI: double (nullable = true)\n",
            " |-- Smoker: double (nullable = true)\n",
            " |-- Stroke: double (nullable = true)\n",
            " |-- HeartDiseaseorAttack: double (nullable = true)\n",
            " |-- PhysActivity: double (nullable = true)\n",
            " |-- Fruits: double (nullable = true)\n",
            " |-- Veggies: double (nullable = true)\n",
            " |-- HvyAlcoholConsump: double (nullable = true)\n",
            " |-- AnyHealthcare: double (nullable = true)\n",
            " |-- NoDocbcCost: double (nullable = true)\n",
            " |-- GenHlth: double (nullable = true)\n",
            " |-- MentHlth: double (nullable = true)\n",
            " |-- PhysHlth: double (nullable = true)\n",
            " |-- DiffWalk: double (nullable = true)\n",
            " |-- Sex: double (nullable = true)\n",
            " |-- Age: double (nullable = true)\n",
            " |-- Education: double (nullable = true)\n",
            " |-- Income: double (nullable = true)\n",
            "\n"
          ]
        }
      ]
    },
    {
      "cell_type": "markdown",
      "source": [
        "**2. | Data PreProcessing**"
      ],
      "metadata": {
        "id": "xzydUf7bN8Yt"
      }
    },
    {
      "cell_type": "markdown",
      "source": [
        "Display Content"
      ],
      "metadata": {
        "id": "-hwhwe-9OHLn"
      }
    },
    {
      "cell_type": "code",
      "source": [
        "cdc_data.show(5)"
      ],
      "metadata": {
        "colab": {
          "base_uri": "https://localhost:8080/"
        },
        "id": "sYFXyZlwOCE1",
        "outputId": "bd692c88-e7cf-4fbc-d463-d31d0cf02d91"
      },
      "execution_count": 8,
      "outputs": [
        {
          "output_type": "stream",
          "name": "stdout",
          "text": [
            "+---------------+------+--------+---------+----+------+------+--------------------+------------+------+-------+-----------------+-------------+-----------+-------+--------+--------+--------+---+----+---------+------+\n",
            "|Diabetes_binary|HighBP|HighChol|CholCheck| BMI|Smoker|Stroke|HeartDiseaseorAttack|PhysActivity|Fruits|Veggies|HvyAlcoholConsump|AnyHealthcare|NoDocbcCost|GenHlth|MentHlth|PhysHlth|DiffWalk|Sex| Age|Education|Income|\n",
            "+---------------+------+--------+---------+----+------+------+--------------------+------------+------+-------+-----------------+-------------+-----------+-------+--------+--------+--------+---+----+---------+------+\n",
            "|            0.0|   1.0|     1.0|      1.0|40.0|   1.0|   0.0|                 0.0|         0.0|   0.0|    1.0|              0.0|          1.0|        0.0|    5.0|    18.0|    15.0|     1.0|0.0| 9.0|      4.0|   3.0|\n",
            "|            0.0|   0.0|     0.0|      0.0|25.0|   1.0|   0.0|                 0.0|         1.0|   0.0|    0.0|              0.0|          0.0|        1.0|    3.0|     0.0|     0.0|     0.0|0.0| 7.0|      6.0|   1.0|\n",
            "|            0.0|   1.0|     1.0|      1.0|28.0|   0.0|   0.0|                 0.0|         0.0|   1.0|    0.0|              0.0|          1.0|        1.0|    5.0|    30.0|    30.0|     1.0|0.0| 9.0|      4.0|   8.0|\n",
            "|            0.0|   1.0|     0.0|      1.0|27.0|   0.0|   0.0|                 0.0|         1.0|   1.0|    1.0|              0.0|          1.0|        0.0|    2.0|     0.0|     0.0|     0.0|0.0|11.0|      3.0|   6.0|\n",
            "|            0.0|   1.0|     1.0|      1.0|24.0|   0.0|   0.0|                 0.0|         1.0|   1.0|    1.0|              0.0|          1.0|        0.0|    2.0|     3.0|     0.0|     0.0|0.0|11.0|      5.0|   4.0|\n",
            "+---------------+------+--------+---------+----+------+------+--------------------+------------+------+-------+-----------------+-------------+-----------+-------+--------+--------+--------+---+----+---------+------+\n",
            "only showing top 5 rows\n",
            "\n"
          ]
        }
      ]
    },
    {
      "cell_type": "markdown",
      "source": [
        "**Count Null/NaN Values**"
      ],
      "metadata": {
        "id": "6oP5_LwfORN0"
      }
    },
    {
      "cell_type": "code",
      "source": [
        "cdc_nulls = cdc_data.select(\n",
        "    [\n",
        "        sum(when(col(c).isNull(), 1).otherwise(0)).alias(c)\n",
        "        for c in cdc_data.columns\n",
        "    ]\n",
        ")\n",
        "cdc_nulls.show()"
      ],
      "metadata": {
        "colab": {
          "base_uri": "https://localhost:8080/"
        },
        "id": "KK5zaDvqOWTD",
        "outputId": "7d811873-4129-4aa2-9a82-982620ca47ce"
      },
      "execution_count": 9,
      "outputs": [
        {
          "output_type": "stream",
          "name": "stdout",
          "text": [
            "+---------------+------+--------+---------+---+------+------+--------------------+------------+------+-------+-----------------+-------------+-----------+-------+--------+--------+--------+---+---+---------+------+\n",
            "|Diabetes_binary|HighBP|HighChol|CholCheck|BMI|Smoker|Stroke|HeartDiseaseorAttack|PhysActivity|Fruits|Veggies|HvyAlcoholConsump|AnyHealthcare|NoDocbcCost|GenHlth|MentHlth|PhysHlth|DiffWalk|Sex|Age|Education|Income|\n",
            "+---------------+------+--------+---------+---+------+------+--------------------+------------+------+-------+-----------------+-------------+-----------+-------+--------+--------+--------+---+---+---------+------+\n",
            "|              0|     0|       0|        0|  0|     0|     0|                   0|           0|     0|      0|                0|            0|          0|      0|       0|       0|       0|  0|  0|        0|     0|\n",
            "+---------------+------+--------+---------+---+------+------+--------------------+------------+------+-------+-----------------+-------------+-----------+-------+--------+--------+--------+---+---+---------+------+\n",
            "\n"
          ]
        }
      ]
    },
    {
      "cell_type": "markdown",
      "source": [
        "**No Missing or Null Values**"
      ],
      "metadata": {
        "id": "IoLzvsOhO6wD"
      }
    }
  ]
}