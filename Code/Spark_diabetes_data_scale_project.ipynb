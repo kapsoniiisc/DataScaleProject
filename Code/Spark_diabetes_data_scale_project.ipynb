{
  "nbformat": 4,
  "nbformat_minor": 0,
  "metadata": {
    "colab": {
      "provenance": []
    },
    "kernelspec": {
      "name": "python3",
      "display_name": "Python 3"
    },
    "language_info": {
      "name": "python"
    }
  },
  "cells": [
    {
      "cell_type": "code",
      "execution_count": 1,
      "metadata": {
        "colab": {
          "base_uri": "https://localhost:8080/"
        },
        "id": "6SpIvC0JgKvQ",
        "outputId": "336421ab-2371-4d4a-f008-23345932670f"
      },
      "outputs": [
        {
          "output_type": "stream",
          "name": "stdout",
          "text": [
            "Drive already mounted at /content/drive; to attempt to forcibly remount, call drive.mount(\"/content/drive\", force_remount=True).\n"
          ]
        }
      ],
      "source": [
        "from google.colab import drive\n",
        "drive.mount('/content/drive')"
      ]
    },
    {
      "cell_type": "code",
      "source": [
        "!ls /content/drive/Shareddrives/DA231o-2024-shared/assignments/SparkData/spark-3.5.2-bin-hadoop3.tgz\n",
        "!apt-get install openjdk-8-jdk-headless -qq > /dev/null\n",
        "!tar xf /content/drive/Shareddrives/DA231o-2024-shared/assignments/SparkData/spark-3.5.2-bin-hadoop3.tgz\n",
        "!pip install -q findspark\n",
        "!pip install -q pyspark\n",
        "import os\n",
        "os.environ[\"JAVA_HOME\"] = \"/usr/lib/jvm/java-8-openjdk-amd64\"\n",
        "os.environ[\"SPARK_HOME\"] = \"/content/spark-3.5.2-bin-hadoop3\""
      ],
      "metadata": {
        "colab": {
          "base_uri": "https://localhost:8080/"
        },
        "id": "me1JDj26gbV1",
        "outputId": "5ffd864e-2965-4f3d-b132-be3c4105c38c"
      },
      "execution_count": 2,
      "outputs": [
        {
          "output_type": "stream",
          "name": "stdout",
          "text": [
            "/content/drive/Shareddrives/DA231o-2024-shared/assignments/SparkData/spark-3.5.2-bin-hadoop3.tgz\n"
          ]
        }
      ]
    },
    {
      "cell_type": "code",
      "source": [
        "# !ls /content/data\n",
        "\n",
        "# !mkdir -p /content/data\n",
        "# !rm -rf /content/data/*.csv\n",
        "# !ln -s /content/drive/MyDrive/Data-scale-project/dataset/*.csv /content/data/\n",
        "# !ls /content/data"
      ],
      "metadata": {
        "colab": {
          "base_uri": "https://localhost:8080/"
        },
        "id": "x8MBQDrkjYAe",
        "outputId": "f4896347-2177-44f3-c1c2-a1d543d67c87"
      },
      "execution_count": 68,
      "outputs": [
        {
          "output_type": "stream",
          "name": "stdout",
          "text": [
            "diabetes_binary_health_indicators_BRFSS2015.csv  diabetes.csv\n",
            "diabetes_binary_health_indicators_BRFSS2015.csv  diabetes.csv\n"
          ]
        }
      ]
    },
    {
      "cell_type": "code",
      "source": [
        "import findspark\n",
        "findspark.init()\n",
        "findspark.find()\n",
        "from pyspark.sql import SparkSession\n",
        "input_type = 'sample'\n",
        "spark = SparkSession.builder\\\n",
        "         .master(\"local\")\\\n",
        "         .appName(\"Colab\")\\\n",
        "         .config('spark.ui.port', '4050')\\\n",
        "         .getOrCreate()"
      ],
      "metadata": {
        "id": "wXbeVYc7ldqL"
      },
      "execution_count": 3,
      "outputs": []
    },
    {
      "cell_type": "code",
      "source": [
        "# def read_csv(path_to_file):\n",
        "#   return spark.read.csv(path_to_file, header=True, inferSchema=True)\n",
        "\n",
        "# cdc_df = read_csv('/content/data/diabetes_binary_health_indicators_BRFSS2015.csv')\n",
        "# pima_df = read_csv('/content/data/diabetes.csv')"
      ],
      "metadata": {
        "id": "Zjyw8Rr5li0f"
      },
      "execution_count": 70,
      "outputs": []
    },
    {
      "cell_type": "code",
      "source": [
        "# reading data sets\n",
        "import os\n",
        "\n",
        "\n",
        "cdc_url = 'https://raw.githubusercontent.com/kapsoniiisc/diabetes-dsp-project/refs/heads/main/Dataset/diabetes_binary_health_indicators_BRFSS2015.csv'\n",
        "pima_url = 'https://raw.githubusercontent.com/kapsoniiisc/diabetes-dsp-project/refs/heads/main/Dataset/diabetes.csv'\n",
        "\n",
        "\n",
        "os.system(f\"wget {cdc_url} -O /content/diabetes_binary_health_indicators_BRFSS2015.csv\")\n",
        "os.system(f\"wget {pima_url} -O /content/diabetes.csv\")\n",
        "\n",
        "# Step 5: Read the CSV files into Spark DataFrames\n",
        "cdc_df = spark.read.csv('/content/diabetes_binary_health_indicators_BRFSS2015.csv', header=True, inferSchema=True)\n",
        "pima_df = spark.read.csv('/content/diabetes.csv', header=True, inferSchema=True)\n"
      ],
      "metadata": {
        "id": "tnRlFKV8lwmR"
      },
      "execution_count": 4,
      "outputs": []
    },
    {
      "cell_type": "code",
      "source": [
        "cdc_df.printSchema()\n",
        "pima_df.printSchema()\n",
        "print(cdc_df.columns)\n",
        "print(pima_df.columns)\n",
        "\n",
        "from pyspark.sql import SparkSession\n",
        "from pyspark.sql.functions import col, when, lit\n",
        "from pyspark.ml.feature import VectorAssembler, StandardScaler\n",
        "from pyspark.ml.classification import LogisticRegression, RandomForestClassifier, GBTClassifier\n",
        "from pyspark.ml.evaluation import BinaryClassificationEvaluator\n",
        "from pyspark.ml.tuning import CrossValidator, ParamGridBuilder\n",
        "from random import sample\n",
        "from pyspark.sql.types import DoubleType\n"
      ],
      "metadata": {
        "colab": {
          "base_uri": "https://localhost:8080/"
        },
        "id": "y52jNwHLb0bv",
        "outputId": "6f0505bd-5abd-48f8-84bc-c01d055d17bc"
      },
      "execution_count": 7,
      "outputs": [
        {
          "output_type": "stream",
          "name": "stdout",
          "text": [
            "root\n",
            " |-- Diabetes_binary: double (nullable = true)\n",
            " |-- HighBP: double (nullable = true)\n",
            " |-- HighChol: double (nullable = true)\n",
            " |-- CholCheck: double (nullable = true)\n",
            " |-- BMI: double (nullable = true)\n",
            " |-- Smoker: double (nullable = true)\n",
            " |-- Stroke: double (nullable = true)\n",
            " |-- HeartDiseaseorAttack: double (nullable = true)\n",
            " |-- PhysActivity: double (nullable = true)\n",
            " |-- Fruits: double (nullable = true)\n",
            " |-- Veggies: double (nullable = true)\n",
            " |-- HvyAlcoholConsump: double (nullable = true)\n",
            " |-- AnyHealthcare: double (nullable = true)\n",
            " |-- NoDocbcCost: double (nullable = true)\n",
            " |-- GenHlth: double (nullable = true)\n",
            " |-- MentHlth: double (nullable = true)\n",
            " |-- PhysHlth: double (nullable = true)\n",
            " |-- DiffWalk: double (nullable = true)\n",
            " |-- Sex: double (nullable = true)\n",
            " |-- Age: double (nullable = true)\n",
            " |-- Education: double (nullable = true)\n",
            " |-- Income: double (nullable = true)\n",
            "\n",
            "root\n",
            " |-- Pregnancies: integer (nullable = true)\n",
            " |-- Glucose: integer (nullable = true)\n",
            " |-- BloodPressure: integer (nullable = true)\n",
            " |-- SkinThickness: integer (nullable = true)\n",
            " |-- Insulin: integer (nullable = true)\n",
            " |-- BMI: double (nullable = true)\n",
            " |-- DiabetesPedigreeFunction: double (nullable = true)\n",
            " |-- Age: integer (nullable = true)\n",
            " |-- Outcome: integer (nullable = true)\n",
            "\n",
            "['Diabetes_binary', 'HighBP', 'HighChol', 'CholCheck', 'BMI', 'Smoker', 'Stroke', 'HeartDiseaseorAttack', 'PhysActivity', 'Fruits', 'Veggies', 'HvyAlcoholConsump', 'AnyHealthcare', 'NoDocbcCost', 'GenHlth', 'MentHlth', 'PhysHlth', 'DiffWalk', 'Sex', 'Age', 'Education', 'Income']\n",
            "['Pregnancies', 'Glucose', 'BloodPressure', 'SkinThickness', 'Insulin', 'BMI', 'DiabetesPedigreeFunction', 'Age', 'Outcome']\n"
          ]
        }
      ]
    },
    {
      "cell_type": "code",
      "source": [
        "feature_columns = ['BMI', 'Age', 'HighBP', 'Smoker', 'PhysActivity', 'GenHlth', 'PhysHlth']\n",
        "assembler = VectorAssembler(inputCols=feature_columns, outputCol=\"features\")\n",
        "assembled_cdc_df = assembler.transform(cdc_df).select(\"features\", \"Diabetes_binary\")\n",
        "\n",
        "# Step 7: Scale Features to improve on imbalance data\n",
        "scaler = StandardScaler(inputCol=\"features\", outputCol=\"scaled_features\", withMean=True, withStd=True)\n",
        "scaled_df = scaler.fit(assembled_cdc_df).transform(assembled_cdc_df)\n",
        "\n",
        "# Step 8: Train-Test Split\n",
        "train_df_cdc, test_df_cdc = scaled_df.randomSplit([0.8, 0.2], seed=42)\n",
        "\n",
        "# Step 9: Train Logistic Regression Model\n",
        "lr = LogisticRegression(featuresCol=\"scaled_features\", labelCol=\"Diabetes_binary\", maxIter=10)\n",
        "lr_model = lr.fit(train_df_cdc)\n",
        "\n",
        "# Evaluate Logistic Regression Model\n",
        "evaluator = BinaryClassificationEvaluator(labelCol=\"Diabetes_binary\", metricName=\"areaUnderROC\")\n",
        "lr_predictions = lr_model.transform(test_df_cdc)\n",
        "lr_roc_auc = evaluator.evaluate(lr_predictions)\n",
        "print(f\"Logistic Regression ROC AUC For CDC Data: {lr_roc_auc}\")\n"
      ],
      "metadata": {
        "colab": {
          "base_uri": "https://localhost:8080/"
        },
        "id": "-BzngNf6hUQv",
        "outputId": "3b36b6c4-f13f-4b68-936d-9e73d8602b2e"
      },
      "execution_count": 8,
      "outputs": [
        {
          "output_type": "stream",
          "name": "stdout",
          "text": [
            "Logistic Regression ROC AUC For CDC Data: 0.8075300444250557\n"
          ]
        }
      ]
    },
    {
      "cell_type": "code",
      "source": [
        "from pyspark.ml.evaluation import MulticlassClassificationEvaluator\n",
        "\n",
        "# Step 1: Make Predictions\n",
        "predictions = lr_model.transform(test_df_cdc)  # Replace with the model of your choice\n",
        "\n",
        "# Step 2: Define the evaluator for precision, recall, and F1 score\n",
        "multiclass_evaluator = MulticlassClassificationEvaluator(labelCol=\"Diabetes_binary\", predictionCol=\"prediction\")\n",
        "\n",
        "\n",
        "accuracy = multiclass_evaluator.evaluate(predictions, {multiclass_evaluator.metricName: \"accuracy\"})\n",
        "print(f\"Accuracy: {accuracy}\")\n",
        "\n",
        "# Calculate precision\n",
        "precision = multiclass_evaluator.evaluate(predictions, {multiclass_evaluator.metricName: \"weightedPrecision\"})\n",
        "print(f\"Precision: {precision}\")\n",
        "\n",
        "# Calculate recall\n",
        "recall = multiclass_evaluator.evaluate(predictions, {multiclass_evaluator.metricName: \"weightedRecall\"})\n",
        "print(f\"Recall: {recall}\")\n",
        "\n",
        "# Calculate F1-score\n",
        "f1_score = multiclass_evaluator.evaluate(predictions, {multiclass_evaluator.metricName: \"f1\"})\n",
        "print(f\"F1 Score: {f1_score}\")\n",
        "\n",
        "import matplotlib.pyplot as plt\n",
        "\n",
        "# Metrics to plot\n",
        "metrics = ['AUC', 'Accuracy', 'Precision', 'Recall', 'F1 Score']\n",
        "values = [lr_roc_auc, accuracy, precision, recall, f1_score]\n",
        "\n",
        "# Create the bar chart\n",
        "plt.figure(figsize=(10, 6))\n",
        "plt.bar(metrics, values, color=['blue', 'green', 'red', 'purple', 'orange'])\n",
        "plt.xlabel('Metrics')\n",
        "plt.ylabel('Values')\n",
        "plt.title('Model Performance Metrics FOR LR With CDC Data')\n",
        "plt.ylim(0, 1)\n",
        "plt.show()"
      ],
      "metadata": {
        "colab": {
          "base_uri": "https://localhost:8080/",
          "height": 635
        },
        "id": "TVJ55afXmTeI",
        "outputId": "0332eda2-6d94-4616-f800-2f3ad48c3c78"
      },
      "execution_count": 9,
      "outputs": [
        {
          "output_type": "stream",
          "name": "stdout",
          "text": [
            "Accuracy: 0.8595695377243627\n",
            "Precision: 0.8208973645023433\n",
            "Recall: 0.8595695377243628\n",
            "F1 Score: 0.8192726327505367\n"
          ]
        },
        {
          "output_type": "display_data",
          "data": {
            "text/plain": [
              "<Figure size 1000x600 with 1 Axes>"
            ],
            "image/png": "[encoded data removed]"
          },
          "metadata": {}
        }
      ]
    },
    {
      "cell_type": "code",
      "source": [
        "class_counts = pima_df.groupBy(\"Outcome\").count().collect()\n",
        "total_count = sum(row[\"count\"] for row in class_counts)\n",
        "class_weights = {row[\"Outcome\"]: total_count / row[\"count\"] for row in class_counts}\n",
        "total_weight = sum(class_weights.values())\n",
        "class_weights = {key: val / total_weight for key, val in class_weights.items()}\n",
        "\n",
        "# Add weight column to handle the imbalance data\n",
        "combined_pima_df = pima_df.withColumn(\n",
        "    \"weight\",\n",
        "    when(col(\"Outcome\") == 1, lit(class_weights[1])).otherwise(lit(class_weights[0]))\n",
        ")\n",
        "\n",
        "feature_columns = ['Pregnancies', 'Glucose', 'BloodPressure', 'SkinThickness', 'Insulin', 'BMI', 'DiabetesPedigreeFunction', 'Age']\n",
        "assembler = VectorAssembler(inputCols=feature_columns, outputCol=\"features\")\n",
        "assembled_pima_df = assembler.transform(combined_pima_df).select(\"features\", \"Outcome\",\"weight\")\n",
        "\n",
        "# Step 7: Scale Features to improve on imbalance data\n",
        "scaler = StandardScaler(inputCol=\"features\", outputCol=\"scaled_features\", withMean=True, withStd=True)\n",
        "scaled_df = scaler.fit(assembled_pima_df).transform(assembled_pima_df)\n",
        "\n",
        "# Step 8: Train-Test Split\n",
        "train_df_pima, test_df_pima = scaled_df.randomSplit([0.8, 0.2], seed=42)\n",
        "\n",
        "# Step 9: Train Logistic Regression Model\n",
        "lr = LogisticRegression(featuresCol=\"scaled_features\", labelCol=\"Outcome\", weightCol=\"weight\", maxIter=10)\n",
        "lr_model = lr.fit(train_df_pima)\n",
        "\n",
        "# Evaluate Logistic Regression Model\n",
        "evaluator = BinaryClassificationEvaluator(labelCol=\"Outcome\", metricName=\"areaUnderROC\")\n",
        "lr_predictions = lr_model.transform(test_df_pima)\n",
        "lr_roc_auc = evaluator.evaluate(lr_predictions)\n",
        "print(f\"Logistic Regression ROC AUC For PIMA Data: {lr_roc_auc}\")"
      ],
      "metadata": {
        "colab": {
          "base_uri": "https://localhost:8080/"
        },
        "id": "zCPb_XgNh3Cq",
        "outputId": "f1b102fc-6da8-4e76-c7ee-a623c2d09cdb"
      },
      "execution_count": 10,
      "outputs": [
        {
          "output_type": "stream",
          "name": "stdout",
          "text": [
            "Logistic Regression ROC AUC For PIMA Data: 0.8803418803418804\n"
          ]
        }
      ]
    },
    {
      "cell_type": "code",
      "source": [
        "from pyspark.ml.evaluation import MulticlassClassificationEvaluator\n",
        "\n",
        "# Step 1: Make Predictions\n",
        "predictions = lr_model.transform(test_df_pima)  # Replace with the model of your choice\n",
        "\n",
        "# Step 2: Define the evaluator for precision, recall, and F1 score\n",
        "multiclass_evaluator = MulticlassClassificationEvaluator(labelCol=\"Outcome\", predictionCol=\"prediction\")\n",
        "\n",
        "\n",
        "accuracy = multiclass_evaluator.evaluate(predictions, {multiclass_evaluator.metricName: \"accuracy\"})\n",
        "print(f\"Accuracy: {accuracy}\")\n",
        "\n",
        "# Calculate precision\n",
        "precision = multiclass_evaluator.evaluate(predictions, {multiclass_evaluator.metricName: \"weightedPrecision\"})\n",
        "print(f\"Precision: {precision}\")\n",
        "\n",
        "# Calculate recall\n",
        "recall = multiclass_evaluator.evaluate(predictions, {multiclass_evaluator.metricName: \"weightedRecall\"})\n",
        "print(f\"Recall: {recall}\")\n",
        "\n",
        "# Calculate F1-score\n",
        "f1_score = multiclass_evaluator.evaluate(predictions, {multiclass_evaluator.metricName: \"f1\"})\n",
        "print(f\"F1 Score: {f1_score}\")\n",
        "import matplotlib.pyplot as plt\n",
        "\n",
        "# Metrics to plot\n",
        "metrics = ['AUC', 'Accuracy', 'Precision', 'Recall', 'F1 Score']\n",
        "values = [lr_roc_auc, accuracy, precision, recall, f1_score]\n",
        "\n",
        "# Create the bar chart\n",
        "plt.figure(figsize=(10, 6))\n",
        "plt.bar(metrics, values, color=['blue', 'green', 'red', 'purple', 'orange'])\n",
        "plt.xlabel('Metrics')\n",
        "plt.ylabel('Values')\n",
        "plt.title('Model Performance Metrics FOR LR With PIMA Data')\n",
        "plt.ylim(0, 1)\n",
        "plt.show()"
      ],
      "metadata": {
        "colab": {
          "base_uri": "https://localhost:8080/",
          "height": 635
        },
        "id": "LTCjAPvsle8F",
        "outputId": "94b047fa-197b-4b9a-8267-c66f0b6fe8c9"
      },
      "execution_count": 11,
      "outputs": [
        {
          "output_type": "stream",
          "name": "stdout",
          "text": [
            "Accuracy: 0.7398373983739838\n",
            "Precision: 0.7812964653710708\n",
            "Recall: 0.7398373983739837\n",
            "F1 Score: 0.748286127878076\n"
          ]
        },
        {
          "output_type": "display_data",
          "data": {
            "text/plain": [
              "<Figure size 1000x600 with 1 Axes>"
            ],
            "image/png": "[encoded data removed]"
          },
          "metadata": {}
        }
      ]
    },
    {
      "cell_type": "code",
      "source": [
        "from pyspark.sql.functions import round, floor, col, when\n",
        "from pyspark.sql.types import DoubleType\n",
        "\n",
        "pima_df = pima_df.withColumn(\n",
        "    'AGEG5YR',\n",
        "    when((col('Age') >= 18) & (col('Age') <= 24), 1)\n",
        "    .when((col('Age') >= 25) & (col('Age') <= 29), 2)\n",
        "    .when((col('Age') >= 30) & (col('Age') <= 34), 3)\n",
        "    .when((col('Age') >= 35) & (col('Age') <= 39), 4)\n",
        "    .when((col('Age') >= 40) & (col('Age') <= 44), 5)\n",
        "    .when((col('Age') >= 45) & (col('Age') <= 49), 6)\n",
        "    .when((col('Age') >= 50) & (col('Age') <= 54), 7)\n",
        "    .when((col('Age') >= 55) & (col('Age') <= 59), 8)\n",
        "    .when((col('Age') >= 60) & (col('Age') <= 64), 9)\n",
        "    .when((col('Age') >= 65) & (col('Age') <= 69), 10)\n",
        "    .when((col('Age') >= 70) & (col('Age') <= 74), 11)\n",
        "    .when((col('Age') >= 75) & (col('Age') <= 79), 12)\n",
        "    .when((col('Age') >= 80) & (col('Age') <= 99), 13)\n",
        "    .otherwise(14)\n",
        "    .cast(DoubleType())  # Cast the new column to DoubleType\n",
        ")\n",
        "\n",
        "\n",
        "\n",
        "pima_df = pima_df.withColumn('HighBP', when(col('BloodPressure') > 80, 1).otherwise(0))\n",
        "pima_df.drop('Age')\n",
        "pima_df.show(5)\n",
        "\n",
        "cdc_df = cdc_df.withColumnRenamed(\"Age\", \"AGEG5YR\")\n",
        "cdc_df.show(5)\n",
        "#HIghBP , HighChol , BMI, PhysicalActivity , GenHlth , MentHlth , PhysHlth , Age , Eduation and Income."
      ],
      "metadata": {
        "colab": {
          "base_uri": "https://localhost:8080/"
        },
        "id": "4LsOvVGwdkag",
        "outputId": "9aa296ed-2e39-4a89-c8b7-08a70cac1d26"
      },
      "execution_count": 12,
      "outputs": [
        {
          "output_type": "stream",
          "name": "stdout",
          "text": [
            "+-----------+-------+-------------+-------------+-------+----+------------------------+---+-------+-------+------+\n",
            "|Pregnancies|Glucose|BloodPressure|SkinThickness|Insulin| BMI|DiabetesPedigreeFunction|Age|Outcome|AGEG5YR|HighBP|\n",
            "+-----------+-------+-------------+-------------+-------+----+------------------------+---+-------+-------+------+\n",
            "|          6|    148|           72|           35|      0|33.6|                   0.627| 50|      1|    7.0|     0|\n",
            "|          1|     85|           66|           29|      0|26.6|                   0.351| 31|      0|    3.0|     0|\n",
            "|          8|    183|           64|            0|      0|23.3|                   0.672| 32|      1|    3.0|     0|\n",
            "|          1|     89|           66|           23|     94|28.1|                   0.167| 21|      0|    1.0|     0|\n",
            "|          0|    137|           40|           35|    168|43.1|                   2.288| 33|      1|    3.0|     0|\n",
            "+-----------+-------+-------------+-------------+-------+----+------------------------+---+-------+-------+------+\n",
            "only showing top 5 rows\n",
            "\n",
            "+---------------+------+--------+---------+----+------+------+--------------------+------------+------+-------+-----------------+-------------+-----------+-------+--------+--------+--------+---+-------+---------+------+\n",
            "|Diabetes_binary|HighBP|HighChol|CholCheck| BMI|Smoker|Stroke|HeartDiseaseorAttack|PhysActivity|Fruits|Veggies|HvyAlcoholConsump|AnyHealthcare|NoDocbcCost|GenHlth|MentHlth|PhysHlth|DiffWalk|Sex|AGEG5YR|Education|Income|\n",
            "+---------------+------+--------+---------+----+------+------+--------------------+------------+------+-------+-----------------+-------------+-----------+-------+--------+--------+--------+---+-------+---------+------+\n",
            "|            0.0|   1.0|     1.0|      1.0|40.0|   1.0|   0.0|                 0.0|         0.0|   0.0|    1.0|              0.0|          1.0|        0.0|    5.0|    18.0|    15.0|     1.0|0.0|    9.0|      4.0|   3.0|\n",
            "|            0.0|   0.0|     0.0|      0.0|25.0|   1.0|   0.0|                 0.0|         1.0|   0.0|    0.0|              0.0|          0.0|        1.0|    3.0|     0.0|     0.0|     0.0|0.0|    7.0|      6.0|   1.0|\n",
            "|            0.0|   1.0|     1.0|      1.0|28.0|   0.0|   0.0|                 0.0|         0.0|   1.0|    0.0|              0.0|          1.0|        1.0|    5.0|    30.0|    30.0|     1.0|0.0|    9.0|      4.0|   8.0|\n",
            "|            0.0|   1.0|     0.0|      1.0|27.0|   0.0|   0.0|                 0.0|         1.0|   1.0|    1.0|              0.0|          1.0|        0.0|    2.0|     0.0|     0.0|     0.0|0.0|   11.0|      3.0|   6.0|\n",
            "|            0.0|   1.0|     1.0|      1.0|24.0|   0.0|   0.0|                 0.0|         1.0|   1.0|    1.0|              0.0|          1.0|        0.0|    2.0|     3.0|     0.0|     0.0|0.0|   11.0|      5.0|   4.0|\n",
            "+---------------+------+--------+---------+----+------+------+--------------------+------------+------+-------+-----------------+-------------+-----------+-------+--------+--------+--------+---+-------+---------+------+\n",
            "only showing top 5 rows\n",
            "\n"
          ]
        }
      ]
    },
    {
      "cell_type": "code",
      "source": [
        "# Import Modules\n",
        "from pyspark.sql import SparkSession\n",
        "from pyspark.sql.functions import col, when, lit\n",
        "from pyspark.ml.feature import VectorAssembler, StandardScaler\n",
        "from pyspark.ml.classification import LogisticRegression, RandomForestClassifier, GBTClassifier\n",
        "from pyspark.ml.evaluation import BinaryClassificationEvaluator\n",
        "from pyspark.ml.tuning import CrossValidator, ParamGridBuilder\n",
        "from random import sample\n",
        "from pyspark.sql.types import DoubleType\n",
        "\n",
        "#\n",
        "# Step 1: Preprocessing CDC Dataset\n",
        "cdc_df = cdc_df.withColumnRenamed(\"Diabetes_binary\", \"Outcome\")\n",
        "cdc_features = ['BMI', 'HighBP', 'Smoker', 'PhysActivity', 'GenHlth', 'PhysHlth', 'AGEG5YR', 'Outcome']\n",
        "cdc_df = cdc_df.select(cdc_features)\n",
        "\n",
        "# Step 2: Preprocessing Pima Dataset\n",
        "pima_features = ['BMI', 'HighBP', 'AGEG5YR', 'Insulin','Outcome']\n",
        "pima_df = pima_df.select(pima_features)\n",
        "\n",
        "# Step 3: Align Schema by Adding Missing Columns\n",
        "\n",
        "\n",
        "cdc_df = cdc_df.withColumn(\"Insulin\", lit(0).cast(DoubleType()))\n",
        "\n",
        "pima_df = pima_df.withColumn(\"GenHlth\", lit(0).cast(DoubleType())) \\\n",
        "                 .withColumn(\"Smoker\", lit(0).cast(DoubleType())) \\\n",
        "                 .withColumn(\"PhysActivity\", lit(0).cast(DoubleType())) \\\n",
        "                 .withColumn(\"PhysHlth\", lit(0).cast(DoubleType()))\n",
        "\n",
        "# Combine datasets\n",
        "combined_df = cdc_df.union(pima_df)\n",
        "\n",
        "# Step 4: Handle Missing Values\n",
        "combined_df = combined_df.fillna(0)\n",
        "\n",
        "# Step 5: Calculate Class Weights as we have imbalance data\n",
        "class_counts = combined_df.groupBy(\"Outcome\").count().collect()\n",
        "total_count = sum(row[\"count\"] for row in class_counts)\n",
        "class_weights = {row[\"Outcome\"]: total_count / row[\"count\"] for row in class_counts}\n",
        "total_weight = sum(class_weights.values())\n",
        "class_weights = {key: val / total_weight for key, val in class_weights.items()}\n",
        "\n",
        "# Add weight column to handle the imbalance data\n",
        "combined_df = combined_df.withColumn(\n",
        "    \"weight\",\n",
        "    when(col(\"Outcome\") == 1, lit(class_weights[1])).otherwise(lit(class_weights[0]))\n",
        ")\n",
        "\n",
        "# Step 6: Feature Engineering\n",
        "feature_columns = ['BMI', 'AGEG5YR', 'HighBP', 'Smoker', 'PhysActivity', 'GenHlth', 'PhysHlth']\n",
        "assembler = VectorAssembler(inputCols=feature_columns, outputCol=\"features\")\n",
        "assembled_df = assembler.transform(combined_df).select(\"features\", \"Outcome\", \"weight\")\n",
        "\n",
        "# Step 7: Scale Features to improve on imbalance data\n",
        "scaler = StandardScaler(inputCol=\"features\", outputCol=\"scaled_features\", withMean=True, withStd=True)\n",
        "scaled_df = scaler.fit(assembled_df).transform(assembled_df)\n",
        "\n",
        "# Step 8: Train-Test Split\n",
        "train_df, test_df = scaled_df.randomSplit([0.8, 0.2], seed=42)\n",
        "\n",
        "# Step 9: Train Logistic Regression Model\n",
        "lr = LogisticRegression(featuresCol=\"scaled_features\", labelCol=\"Outcome\", weightCol=\"weight\", maxIter=10)\n",
        "lr_model = lr.fit(train_df)\n",
        "\n",
        "# Evaluate Logistic Regression Model\n",
        "evaluator = BinaryClassificationEvaluator(labelCol=\"Outcome\", metricName=\"areaUnderROC\")\n",
        "lr_predictions = lr_model.transform(test_df)\n",
        "lr_roc_auc = evaluator.evaluate(lr_predictions)\n",
        "print(f\"Logistic Regression ROC AUC For combined CDC adn PIMA: {lr_roc_auc}\")\n",
        "\n",
        "\n",
        "\n",
        "from pyspark.ml.evaluation import MulticlassClassificationEvaluator\n",
        "\n",
        "# Step 1: Make Predictions\n",
        "predictions = lr_model.transform(test_df)  # Replace with the model of your choice\n",
        "\n",
        "# Step 2: Define the evaluator for precision, recall, and F1 score\n",
        "multiclass_evaluator = MulticlassClassificationEvaluator(labelCol=\"Outcome\", predictionCol=\"prediction\")\n",
        "\n",
        "\n",
        "accuracy = multiclass_evaluator.evaluate(predictions, {multiclass_evaluator.metricName: \"accuracy\"})\n",
        "print(f\"Logistic Regression Accuracy For combined CDC adn PIMA: {accuracy}\")\n",
        "\n",
        "# Calculate precision\n",
        "precision = multiclass_evaluator.evaluate(predictions, {multiclass_evaluator.metricName: \"weightedPrecision\"})\n",
        "print(f\"Logistic Regression Precision For combined CDC adn PIMA: {precision}\")\n",
        "\n",
        "# Calculate recall\n",
        "recall = multiclass_evaluator.evaluate(predictions, {multiclass_evaluator.metricName: \"weightedRecall\"})\n",
        "print(f\" Logistic Regression Recall For combined CDC adn PIMA: {recall}\")\n",
        "\n",
        "# Calculate F1-score\n",
        "f1_score = multiclass_evaluator.evaluate(predictions, {multiclass_evaluator.metricName: \"f1\"})\n",
        "print(f\" Logistic Regression F1 Score For combined CDC adn PIMA: {f1_score}\")\n",
        "\n",
        "\n",
        "\n",
        "import matplotlib.pyplot as plt\n",
        "\n",
        "# Metrics to plot\n",
        "metrics = ['AUC', 'Accuracy', 'Precision', 'Recall', 'F1 Score']\n",
        "values = [lr_roc_auc, accuracy, precision, recall, f1_score]\n",
        "\n",
        "# Create the bar chart\n",
        "plt.figure(figsize=(10, 6))\n",
        "plt.bar(metrics, values, color=['blue', 'green', 'red', 'purple', 'orange'])\n",
        "plt.xlabel('Metrics')\n",
        "plt.ylabel('Values')\n",
        "plt.title('Model Performance Metrics FOR LR With CDC and PIMA combined Data')\n",
        "plt.ylim(0, 1)\n",
        "plt.show()\n",
        "\n",
        "\n",
        "\n",
        "# Step 10: Train Random Forest Model\n",
        "rf = RandomForestClassifier(featuresCol=\"scaled_features\", labelCol=\"Outcome\", numTrees=50)\n",
        "rf_model = rf.fit(train_df)\n",
        "\n",
        "# Evaluate Random Forest Model\n",
        "rf_predictions = rf_model.transform(test_df)\n",
        "rf_roc_auc = evaluator.evaluate(rf_predictions)\n",
        "print(f\"Random Forest ROC AUC: {rf_roc_auc}\")\n",
        "\n",
        "# Step 11: Train GBT Model\n",
        "gbt = GBTClassifier(featuresCol=\"scaled_features\", labelCol=\"Outcome\", maxIter=50)\n",
        "gbt_model = gbt.fit(train_df)\n",
        "\n",
        "# Evaluate GBT Model\n",
        "gbt_predictions = gbt_model.transform(test_df)\n",
        "gbt_roc_auc = evaluator.evaluate(gbt_predictions)\n",
        "print(f\"GBT ROC AUC: {gbt_roc_auc}\")\n",
        "\n",
        "# Step 12: Hyperparameter Tuning with Logistic Regression\n",
        "paramGrid = ParamGridBuilder() \\\n",
        "    .addGrid(lr.regParam, [0.01, 0.1, 1.0]) \\\n",
        "    .addGrid(lr.elasticNetParam, [0.0, 0.5, 1.0]) \\\n",
        "    .build()\n",
        "\n",
        "crossval = CrossValidator(estimator=lr,\n",
        "                          estimatorParamMaps=paramGrid,\n",
        "                          evaluator=evaluator,\n",
        "                          numFolds=3)\n",
        "\n",
        "cv_model = crossval.fit(train_df)\n",
        "cv_predictions = cv_model.bestModel.transform(test_df)\n",
        "cv_roc_auc = evaluator.evaluate(cv_predictions)\n",
        "print(f\"Cross-Validated Logistic Regression ROC AUC: {cv_roc_auc}\")\n",
        "\n",
        "# Stop Spark session\n",
        "\n",
        "param_grid = {\n",
        "    'numTrees': [50, 100, 150],\n",
        "    'maxDepth': [5, 10, 20],\n",
        "    'minInstancesPerNode': [1, 2]\n",
        "}\n",
        "\n",
        "# Sample a smaller subset of hyperparameters for Randomized Search\n",
        "random_params = {\n",
        "    'numTrees': sample(param_grid['numTrees'], 1),\n",
        "    'maxDepth': sample(param_grid['maxDepth'], 1),\n",
        "    'minInstancesPerNode': sample(param_grid['minInstancesPerNode'], 1)\n",
        "}\n",
        "\n",
        "# Construct the param grid with sampled values\n",
        "paramGrid = ParamGridBuilder() \\\n",
        "    .addGrid(rf.numTrees, random_params['numTrees']) \\\n",
        "    .addGrid(rf.maxDepth, random_params['maxDepth']) \\\n",
        "    .addGrid(rf.minInstancesPerNode, random_params['minInstancesPerNode']) \\\n",
        "    .build()\n",
        "\n",
        "crossval = CrossValidator(estimator=rf,\n",
        "                          estimatorParamMaps=paramGrid,\n",
        "                          evaluator=evaluator,\n",
        "                          numFolds=3,\n",
        "                          parallelism=4)  # Use more parallelism if possible\n",
        "\n",
        "# Fit the cross-validation model for Random forest\n",
        "cv_rf_model = crossval.fit(train_df)\n",
        "cv_rf_predictions = cv_rf_model.bestModel.transform(test_df)\n",
        "cv_rf_roc_auc = evaluator.evaluate(cv_rf_predictions)\n",
        "print(f\"Cross-Validated Randomized Random Forest ROC AUC: {cv_rf_roc_auc}\")\n",
        "\n",
        "spark.stop()\n",
        "\n",
        "\n",
        "#####\n",
        "#Logistic Regression ROC AUC: 0.7172629596569468\n",
        "#Random Forest ROC AUC: 0.745241357099936\n",
        "#GBT ROC AUC: 0.7682185326505698\n",
        "#Cross-Validated Logistic Regression ROC AUC: 0.7144668644029861\n",
        "#Cross-Validated Randomized Random Forest ROC AUC: 0.7625705359843835\n",
        "####\n",
        "\n",
        "#Total time take is 8 min 10 sec."
      ],
      "metadata": {
        "colab": {
          "base_uri": "https://localhost:8080/",
          "height": 1000
        },
        "id": "12oVQdNf56F4",
        "outputId": "ac1c9f0a-42de-476b-d24c-9e8ff327e4aa"
      },
      "execution_count": 13,
      "outputs": [
        {
          "output_type": "stream",
          "name": "stdout",
          "text": [
            "Logistic Regression ROC AUC For combined CDC adn PIMA: 0.8091422406247148\n",
            "Logistic Regression Accuracy For combined CDC adn PIMA: 0.7214032614866585\n",
            "Logistic Regression Precision For combined CDC adn PIMA: 0.8559129973280918\n",
            " Logistic Regression Recall For combined CDC adn PIMA: 0.7214032614866583\n",
            " Logistic Regression F1 Score For combined CDC adn PIMA: 0.7613710845946444\n"
          ]
        },
        {
          "output_type": "display_data",
          "data": {
            "text/plain": [
              "<Figure size 1000x600 with 1 Axes>"
            ],
            "image/png": "[encoded data removed]"
          },
          "metadata": {}
        },
        {
          "output_type": "stream",
          "name": "stdout",
          "text": [
            "Random Forest ROC AUC: 0.7872913241153228\n",
            "GBT ROC AUC: 0.8158265883171282\n",
            "Cross-Validated Logistic Regression ROC AUC: 0.8089669136949325\n"
          ]
        },
        {
          "output_type": "error",
          "ename": "KeyboardInterrupt",
          "evalue": "",
          "traceback": [
            "\u001b[0;31m---------------------------------------------------------------------------\u001b[0m",
            "\u001b[0;31mIndexError\u001b[0m                                Traceback (most recent call last)",
            "\u001b[0;32m/usr/lib/python3.10/multiprocessing/pool.py\u001b[0m in \u001b[0;36mnext\u001b[0;34m(self, timeout)\u001b[0m\n\u001b[1;32m    855\u001b[0m             \u001b[0;32mtry\u001b[0m\u001b[0;34m:\u001b[0m\u001b[0;34m\u001b[0m\u001b[0;34m\u001b[0m\u001b[0m\n\u001b[0;32m--> 856\u001b[0;31m                 \u001b[0mitem\u001b[0m \u001b[0;34m=\u001b[0m \u001b[0mself\u001b[0m\u001b[0;34m.\u001b[0m\u001b[0m_items\u001b[0m\u001b[0;34m.\u001b[0m\u001b[0mpopleft\u001b[0m\u001b[0;34m(\u001b[0m\u001b[0;34m)\u001b[0m\u001b[0;34m\u001b[0m\u001b[0;34m\u001b[0m\u001b[0m\n\u001b[0m\u001b[1;32m    857\u001b[0m             \u001b[0;32mexcept\u001b[0m \u001b[0mIndexError\u001b[0m\u001b[0;34m:\u001b[0m\u001b[0;34m\u001b[0m\u001b[0;34m\u001b[0m\u001b[0m\n",
            "\u001b[0;31mIndexError\u001b[0m: pop from an empty deque",
            "\nDuring handling of the above exception, another exception occurred:\n",
            "\u001b[0;31mKeyboardInterrupt\u001b[0m                         Traceback (most recent call last)",
            "\u001b[0;32m<ipython-input-13-4b4ab758e4b5>\u001b[0m in \u001b[0;36m<cell line: 180>\u001b[0;34m()\u001b[0m\n\u001b[1;32m    178\u001b[0m \u001b[0;34m\u001b[0m\u001b[0m\n\u001b[1;32m    179\u001b[0m \u001b[0;31m# Fit the cross-validation model for Random forest\u001b[0m\u001b[0;34m\u001b[0m\u001b[0;34m\u001b[0m\u001b[0m\n\u001b[0;32m--> 180\u001b[0;31m \u001b[0mcv_rf_model\u001b[0m \u001b[0;34m=\u001b[0m \u001b[0mcrossval\u001b[0m\u001b[0;34m.\u001b[0m\u001b[0mfit\u001b[0m\u001b[0;34m(\u001b[0m\u001b[0mtrain_df\u001b[0m\u001b[0;34m)\u001b[0m\u001b[0;34m\u001b[0m\u001b[0;34m\u001b[0m\u001b[0m\n\u001b[0m\u001b[1;32m    181\u001b[0m \u001b[0mcv_rf_predictions\u001b[0m \u001b[0;34m=\u001b[0m \u001b[0mcv_rf_model\u001b[0m\u001b[0;34m.\u001b[0m\u001b[0mbestModel\u001b[0m\u001b[0;34m.\u001b[0m\u001b[0mtransform\u001b[0m\u001b[0;34m(\u001b[0m\u001b[0mtest_df\u001b[0m\u001b[0;34m)\u001b[0m\u001b[0;34m\u001b[0m\u001b[0;34m\u001b[0m\u001b[0m\n\u001b[1;32m    182\u001b[0m \u001b[0mcv_rf_roc_auc\u001b[0m \u001b[0;34m=\u001b[0m \u001b[0mevaluator\u001b[0m\u001b[0;34m.\u001b[0m\u001b[0mevaluate\u001b[0m\u001b[0;34m(\u001b[0m\u001b[0mcv_rf_predictions\u001b[0m\u001b[0;34m)\u001b[0m\u001b[0;34m\u001b[0m\u001b[0;34m\u001b[0m\u001b[0m\n",
            "\u001b[0;32m/content/spark-3.5.2-bin-hadoop3/python/pyspark/ml/base.py\u001b[0m in \u001b[0;36mfit\u001b[0;34m(self, dataset, params)\u001b[0m\n\u001b[1;32m    203\u001b[0m                 \u001b[0;32mreturn\u001b[0m \u001b[0mself\u001b[0m\u001b[0;34m.\u001b[0m\u001b[0mcopy\u001b[0m\u001b[0;34m(\u001b[0m\u001b[0mparams\u001b[0m\u001b[0;34m)\u001b[0m\u001b[0;34m.\u001b[0m\u001b[0m_fit\u001b[0m\u001b[0;34m(\u001b[0m\u001b[0mdataset\u001b[0m\u001b[0;34m)\u001b[0m\u001b[0;34m\u001b[0m\u001b[0;34m\u001b[0m\u001b[0m\n\u001b[1;32m    204\u001b[0m             \u001b[0;32melse\u001b[0m\u001b[0;34m:\u001b[0m\u001b[0;34m\u001b[0m\u001b[0;34m\u001b[0m\u001b[0m\n\u001b[0;32m--> 205\u001b[0;31m                 \u001b[0;32mreturn\u001b[0m \u001b[0mself\u001b[0m\u001b[0;34m.\u001b[0m\u001b[0m_fit\u001b[0m\u001b[0;34m(\u001b[0m\u001b[0mdataset\u001b[0m\u001b[0;34m)\u001b[0m\u001b[0;34m\u001b[0m\u001b[0;34m\u001b[0m\u001b[0m\n\u001b[0m\u001b[1;32m    206\u001b[0m         \u001b[0;32melse\u001b[0m\u001b[0;34m:\u001b[0m\u001b[0;34m\u001b[0m\u001b[0;34m\u001b[0m\u001b[0m\n\u001b[1;32m    207\u001b[0m             raise TypeError(\n",
            "\u001b[0;32m/content/spark-3.5.2-bin-hadoop3/python/pyspark/ml/tuning.py\u001b[0m in \u001b[0;36m_fit\u001b[0;34m(self, dataset)\u001b[0m\n\u001b[1;32m    845\u001b[0m                 \u001b[0m_parallelFitTasks\u001b[0m\u001b[0;34m(\u001b[0m\u001b[0mest\u001b[0m\u001b[0;34m,\u001b[0m \u001b[0mtrain\u001b[0m\u001b[0;34m,\u001b[0m \u001b[0meva\u001b[0m\u001b[0;34m,\u001b[0m \u001b[0mvalidation\u001b[0m\u001b[0;34m,\u001b[0m \u001b[0mepm\u001b[0m\u001b[0;34m,\u001b[0m \u001b[0mcollectSubModelsParam\u001b[0m\u001b[0;34m)\u001b[0m\u001b[0;34m,\u001b[0m\u001b[0;34m\u001b[0m\u001b[0;34m\u001b[0m\u001b[0m\n\u001b[1;32m    846\u001b[0m             )\n\u001b[0;32m--> 847\u001b[0;31m             \u001b[0;32mfor\u001b[0m \u001b[0mj\u001b[0m\u001b[0;34m,\u001b[0m \u001b[0mmetric\u001b[0m\u001b[0;34m,\u001b[0m \u001b[0msubModel\u001b[0m \u001b[0;32min\u001b[0m \u001b[0mpool\u001b[0m\u001b[0;34m.\u001b[0m\u001b[0mimap_unordered\u001b[0m\u001b[0;34m(\u001b[0m\u001b[0;32mlambda\u001b[0m \u001b[0mf\u001b[0m\u001b[0;34m:\u001b[0m \u001b[0mf\u001b[0m\u001b[0;34m(\u001b[0m\u001b[0;34m)\u001b[0m\u001b[0;34m,\u001b[0m \u001b[0mtasks\u001b[0m\u001b[0;34m)\u001b[0m\u001b[0;34m:\u001b[0m\u001b[0;34m\u001b[0m\u001b[0;34m\u001b[0m\u001b[0m\n\u001b[0m\u001b[1;32m    848\u001b[0m                 \u001b[0mmetrics_all\u001b[0m\u001b[0;34m[\u001b[0m\u001b[0mi\u001b[0m\u001b[0;34m]\u001b[0m\u001b[0;34m[\u001b[0m\u001b[0mj\u001b[0m\u001b[0;34m]\u001b[0m \u001b[0;34m=\u001b[0m \u001b[0mmetric\u001b[0m\u001b[0;34m\u001b[0m\u001b[0;34m\u001b[0m\u001b[0m\n\u001b[1;32m    849\u001b[0m                 \u001b[0;32mif\u001b[0m \u001b[0mcollectSubModelsParam\u001b[0m\u001b[0;34m:\u001b[0m\u001b[0;34m\u001b[0m\u001b[0;34m\u001b[0m\u001b[0m\n",
            "\u001b[0;32m/usr/lib/python3.10/multiprocessing/pool.py\u001b[0m in \u001b[0;36mnext\u001b[0;34m(self, timeout)\u001b[0m\n\u001b[1;32m    859\u001b[0m                     \u001b[0mself\u001b[0m\u001b[0;34m.\u001b[0m\u001b[0m_pool\u001b[0m \u001b[0;34m=\u001b[0m \u001b[0;32mNone\u001b[0m\u001b[0;34m\u001b[0m\u001b[0;34m\u001b[0m\u001b[0m\n\u001b[1;32m    860\u001b[0m                     \u001b[0;32mraise\u001b[0m \u001b[0mStopIteration\u001b[0m \u001b[0;32mfrom\u001b[0m \u001b[0;32mNone\u001b[0m\u001b[0;34m\u001b[0m\u001b[0;34m\u001b[0m\u001b[0m\n\u001b[0;32m--> 861\u001b[0;31m                 \u001b[0mself\u001b[0m\u001b[0;34m.\u001b[0m\u001b[0m_cond\u001b[0m\u001b[0;34m.\u001b[0m\u001b[0mwait\u001b[0m\u001b[0;34m(\u001b[0m\u001b[0mtimeout\u001b[0m\u001b[0;34m)\u001b[0m\u001b[0;34m\u001b[0m\u001b[0;34m\u001b[0m\u001b[0m\n\u001b[0m\u001b[1;32m    862\u001b[0m                 \u001b[0;32mtry\u001b[0m\u001b[0;34m:\u001b[0m\u001b[0;34m\u001b[0m\u001b[0;34m\u001b[0m\u001b[0m\n\u001b[1;32m    863\u001b[0m                     \u001b[0mitem\u001b[0m \u001b[0;34m=\u001b[0m \u001b[0mself\u001b[0m\u001b[0;34m.\u001b[0m\u001b[0m_items\u001b[0m\u001b[0;34m.\u001b[0m\u001b[0mpopleft\u001b[0m\u001b[0;34m(\u001b[0m\u001b[0;34m)\u001b[0m\u001b[0;34m\u001b[0m\u001b[0;34m\u001b[0m\u001b[0m\n",
            "\u001b[0;32m/usr/lib/python3.10/threading.py\u001b[0m in \u001b[0;36mwait\u001b[0;34m(self, timeout)\u001b[0m\n\u001b[1;32m    318\u001b[0m         \u001b[0;32mtry\u001b[0m\u001b[0;34m:\u001b[0m    \u001b[0;31m# restore state no matter what (e.g., KeyboardInterrupt)\u001b[0m\u001b[0;34m\u001b[0m\u001b[0;34m\u001b[0m\u001b[0m\n\u001b[1;32m    319\u001b[0m             \u001b[0;32mif\u001b[0m \u001b[0mtimeout\u001b[0m \u001b[0;32mis\u001b[0m \u001b[0;32mNone\u001b[0m\u001b[0;34m:\u001b[0m\u001b[0;34m\u001b[0m\u001b[0;34m\u001b[0m\u001b[0m\n\u001b[0;32m--> 320\u001b[0;31m                 \u001b[0mwaiter\u001b[0m\u001b[0;34m.\u001b[0m\u001b[0macquire\u001b[0m\u001b[0;34m(\u001b[0m\u001b[0;34m)\u001b[0m\u001b[0;34m\u001b[0m\u001b[0;34m\u001b[0m\u001b[0m\n\u001b[0m\u001b[1;32m    321\u001b[0m                 \u001b[0mgotit\u001b[0m \u001b[0;34m=\u001b[0m \u001b[0;32mTrue\u001b[0m\u001b[0;34m\u001b[0m\u001b[0;34m\u001b[0m\u001b[0m\n\u001b[1;32m    322\u001b[0m             \u001b[0;32melse\u001b[0m\u001b[0;34m:\u001b[0m\u001b[0;34m\u001b[0m\u001b[0;34m\u001b[0m\u001b[0m\n",
            "\u001b[0;31mKeyboardInterrupt\u001b[0m: "
          ]
        }
      ]
    },
    {
      "cell_type": "code",
      "source": [],
      "metadata": {
        "colab": {
          "base_uri": "https://localhost:8080/"
        },
        "id": "heqyhH2MF3lA",
        "outputId": "7a09f028-7759-4079-cff5-afdf4b5b58c6"
      },
      "execution_count": 74,
      "outputs": [
        {
          "output_type": "stream",
          "name": "stdout",
          "text": [
            "Randomized Random Forest ROC AUC: 0.7614985311311656\n"
          ]
        }
      ]
    }
  ]
}